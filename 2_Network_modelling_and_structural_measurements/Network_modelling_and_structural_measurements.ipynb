{
 "cells": [
  {
   "cell_type": "code",
   "execution_count": 13,
   "metadata": {},
   "outputs": [],
   "source": [
    "import os\n",
    "import pandas as pd\n",
    "import datetime as dt\n",
    "import networkx as nx\n",
    "from networkx.algorithms import community\n",
    "import community as community_louvain\n",
    "import matplotlib.cm as cm\n",
    "import matplotlib.pyplot as plt\n",
    "import re\n",
    "from cdlib import algorithms, viz\n",
    "from collections import Counter\n",
    "import seaborn as sns\n",
    "import nltk\n",
    "import numpy as np\n",
    "from collections import Counter\n",
    "import leidenalg as la\n",
    "import statistics\n",
    "import scipy\n",
    "import random\n",
    "import igraph as ig\n",
    "from nltk.corpus import stopwords\n",
    "from sklearn.feature_extraction.text import TfidfVectorizer\n",
    "from nltk.corpus import stopwords\n",
    "random.seed(0)"
   ]
  },
  {
   "cell_type": "code",
   "execution_count": 3,
   "metadata": {},
   "outputs": [],
   "source": [
    "# Import data\n",
    "data = pd.read_pickle('/Users/D/edgelist.pkl') \n",
    "nodes_attributes = pd.read_pickle('/Users/D/Google Drive/UVA Arbeitsmaterial/2020:2021/Thesis/Thesis code/Network modeling/full_nodelist_25_05_21.pkl')\n",
    "vaccine_stance = pd.read_pickle('/Users/D/Google Drive/UVA Arbeitsmaterial/2020:2021/Thesis/Thesis code/Vaccine Atttitude Classifier/authors_vaccination_stance_ML_results.pkl')"
   ]
  },
  {
   "cell_type": "code",
   "execution_count": 4,
   "metadata": {},
   "outputs": [],
   "source": [
    "# Merge node attributes with results from vaccination stance classifier\n",
    "nodes_attributes = nodes_attributes.merge(vaccine_stance, left_on='id', right_on='author_id', how='left', suffixes=('', '_author'))"
   ]
  },
  {
   "cell_type": "code",
   "execution_count": 15,
   "metadata": {},
   "outputs": [
    {
     "data": {
      "text/plain": [
       "<AxesSubplot:ylabel='Frequency'>"
      ]
     },
     "execution_count": 15,
     "metadata": {},
     "output_type": "execute_result"
    },
    {
     "data": {
      "image/png": "[encoded data removed]",
      "text/plain": [
       "<Figure size 1152x288 with 1 Axes>"
      ]
     },
     "metadata": {
      "needs_background": "light"
     },
     "output_type": "display_data"
    }
   ],
   "source": [
    "# Distribution of followers\n",
    "nodes_attributes['followers_count'].plot(kind='hist', logy=True, figsize=[16,4], bins=300)"
   ]
  },
  {
   "cell_type": "code",
   "execution_count": 16,
   "metadata": {},
   "outputs": [
    {
     "data": {
      "text/plain": [
       "<AxesSubplot:ylabel='Frequency'>"
      ]
     },
     "execution_count": 16,
     "metadata": {},
     "output_type": "execute_result"
    },
    {
     "data": {
      "image/png": "[encoded data removed]",
      "text/plain": [
       "<Figure size 1152x288 with 1 Axes>"
      ]
     },
     "metadata": {
      "needs_background": "light"
     },
     "output_type": "display_data"
    }
   ],
   "source": [
    "#Tweet amount distribution\n",
    "nodes_attributes['tweet_count'].plot(kind='hist', logy=True, figsize=[16,4], bins=300)"
   ]
  },
  {
   "cell_type": "code",
   "execution_count": 17,
   "metadata": {},
   "outputs": [
    {
     "data": {
      "text/html": [
       "<div>\n",
       "<style scoped>\n",
       "    .dataframe tbody tr th:only-of-type {\n",
       "        vertical-align: middle;\n",
       "    }\n",
       "\n",
       "    .dataframe tbody tr th {\n",
       "        vertical-align: top;\n",
       "    }\n",
       "\n",
       "    .dataframe thead th {\n",
       "        text-align: right;\n",
       "    }\n",
       "</style>\n",
       "<table border=\"1\" class=\"dataframe\">\n",
       "  <thead>\n",
       "    <tr style=\"text-align: right;\">\n",
       "      <th></th>\n",
       "      <th>created_at</th>\n",
       "      <th>description</th>\n",
       "      <th>id</th>\n",
       "      <th>name</th>\n",
       "      <th>username</th>\n",
       "      <th>followers_count</th>\n",
       "      <th>following_count</th>\n",
       "      <th>tweet_count</th>\n",
       "      <th>mean</th>\n",
       "      <th>count</th>\n",
       "      <th>vaccine_stance</th>\n",
       "    </tr>\n",
       "  </thead>\n",
       "  <tbody>\n",
       "    <tr>\n",
       "      <th>125</th>\n",
       "      <td>2014-01-07T07:14:28.000Z</td>\n",
       "      <td>Minutenaktuelle News von jetzt auch mit Youtub...</td>\n",
       "      <td>2280206959</td>\n",
       "      <td>🎲 Policon automatisches Nachrichtenportal 👽</td>\n",
       "      <td>FreieWeltEu</td>\n",
       "      <td>686</td>\n",
       "      <td>2209</td>\n",
       "      <td>1438914</td>\n",
       "      <td>0.115364</td>\n",
       "      <td>5565.0</td>\n",
       "      <td>pro_neutral</td>\n",
       "    </tr>\n",
       "    <tr>\n",
       "      <th>1574</th>\n",
       "      <td>2010-07-21T22:27:05.000Z</td>\n",
       "      <td>Wir bieten Ihnen Webhosting, Webdesign, Domain...</td>\n",
       "      <td>169251474</td>\n",
       "      <td>joKotten Web&amp;Service</td>\n",
       "      <td>jokottenweb</td>\n",
       "      <td>817</td>\n",
       "      <td>528</td>\n",
       "      <td>1225969</td>\n",
       "      <td>0.154083</td>\n",
       "      <td>649.0</td>\n",
       "      <td>pro_neutral</td>\n",
       "    </tr>\n",
       "    <tr>\n",
       "      <th>1961</th>\n",
       "      <td>2012-07-26T13:48:05.000Z</td>\n",
       "      <td>Aktuelle Meldungen des Tages auf einer Webseite.</td>\n",
       "      <td>718145940</td>\n",
       "      <td>Cityreport24</td>\n",
       "      <td>CityReport</td>\n",
       "      <td>2077</td>\n",
       "      <td>4919</td>\n",
       "      <td>1157897</td>\n",
       "      <td>0.148240</td>\n",
       "      <td>1619.0</td>\n",
       "      <td>pro_neutral</td>\n",
       "    </tr>\n",
       "    <tr>\n",
       "      <th>2190</th>\n",
       "      <td>2014-06-03T17:24:01.000Z</td>\n",
       "      <td>Zyite is global retailer.</td>\n",
       "      <td>2543982944</td>\n",
       "      <td>Zyite.com</td>\n",
       "      <td>zyiteblog</td>\n",
       "      <td>1742</td>\n",
       "      <td>3663</td>\n",
       "      <td>1656367</td>\n",
       "      <td>0.000000</td>\n",
       "      <td>12.0</td>\n",
       "      <td>pro_neutral</td>\n",
       "    </tr>\n",
       "    <tr>\n",
       "      <th>2519</th>\n",
       "      <td>2009-03-17T05:03:31.000Z</td>\n",
       "      <td>International Relations, Geoeconomics, Geopoli...</td>\n",
       "      <td>24842995</td>\n",
       "      <td>Nino Brodin</td>\n",
       "      <td>Orgetorix</td>\n",
       "      <td>3272</td>\n",
       "      <td>5000</td>\n",
       "      <td>1066395</td>\n",
       "      <td>0.116279</td>\n",
       "      <td>129.0</td>\n",
       "      <td>pro_neutral</td>\n",
       "    </tr>\n",
       "    <tr>\n",
       "      <th>...</th>\n",
       "      <td>...</td>\n",
       "      <td>...</td>\n",
       "      <td>...</td>\n",
       "      <td>...</td>\n",
       "      <td>...</td>\n",
       "      <td>...</td>\n",
       "      <td>...</td>\n",
       "      <td>...</td>\n",
       "      <td>...</td>\n",
       "      <td>...</td>\n",
       "      <td>...</td>\n",
       "    </tr>\n",
       "    <tr>\n",
       "      <th>348882</th>\n",
       "      <td>2010-05-19T01:24:09.000Z</td>\n",
       "      <td>Noticias de Venezuela Lunes May 24, 2021 el $ ...</td>\n",
       "      <td>145459615</td>\n",
       "      <td>DolarToday®</td>\n",
       "      <td>DolarToday</td>\n",
       "      <td>3735658</td>\n",
       "      <td>3515</td>\n",
       "      <td>2133008</td>\n",
       "      <td>NaN</td>\n",
       "      <td>NaN</td>\n",
       "      <td>NaN</td>\n",
       "    </tr>\n",
       "    <tr>\n",
       "      <th>348884</th>\n",
       "      <td>2010-03-18T14:02:00.000Z</td>\n",
       "      <td>Información e Investigación. \\nDESCARGA NUESTR...</td>\n",
       "      <td>124172948</td>\n",
       "      <td>La Patilla</td>\n",
       "      <td>la_patilla</td>\n",
       "      <td>7073110</td>\n",
       "      <td>181</td>\n",
       "      <td>5786940</td>\n",
       "      <td>NaN</td>\n",
       "      <td>NaN</td>\n",
       "      <td>NaN</td>\n",
       "    </tr>\n",
       "    <tr>\n",
       "      <th>349789</th>\n",
       "      <td>2010-07-12T15:24:32.000Z</td>\n",
       "      <td>Geo is Pakistan's No. 1 TV Channel catering la...</td>\n",
       "      <td>165796189</td>\n",
       "      <td>Geo News Urdu</td>\n",
       "      <td>geonews_urdu</td>\n",
       "      <td>2992346</td>\n",
       "      <td>10</td>\n",
       "      <td>3319157</td>\n",
       "      <td>NaN</td>\n",
       "      <td>NaN</td>\n",
       "      <td>NaN</td>\n",
       "    </tr>\n",
       "    <tr>\n",
       "      <th>351714</th>\n",
       "      <td>2009-03-08T19:32:04.000Z</td>\n",
       "      <td>Jernih Melihat Dunia</td>\n",
       "      <td>23343960</td>\n",
       "      <td>Kompas.com</td>\n",
       "      <td>kompascom</td>\n",
       "      <td>8149995</td>\n",
       "      <td>25</td>\n",
       "      <td>1874023</td>\n",
       "      <td>NaN</td>\n",
       "      <td>NaN</td>\n",
       "      <td>NaN</td>\n",
       "    </tr>\n",
       "    <tr>\n",
       "      <th>351728</th>\n",
       "      <td>2008-06-04T17:03:00.000Z</td>\n",
       "      <td>Te informamos sobre las noticias más recientes...</td>\n",
       "      <td>15007299</td>\n",
       "      <td>El Nacional</td>\n",
       "      <td>ElNacionalWeb</td>\n",
       "      <td>5157630</td>\n",
       "      <td>343304</td>\n",
       "      <td>7578804</td>\n",
       "      <td>NaN</td>\n",
       "      <td>NaN</td>\n",
       "      <td>NaN</td>\n",
       "    </tr>\n",
       "  </tbody>\n",
       "</table>\n",
       "<p>127 rows × 11 columns</p>\n",
       "</div>"
      ],
      "text/plain": [
       "                      created_at  \\\n",
       "125     2014-01-07T07:14:28.000Z   \n",
       "1574    2010-07-21T22:27:05.000Z   \n",
       "1961    2012-07-26T13:48:05.000Z   \n",
       "2190    2014-06-03T17:24:01.000Z   \n",
       "2519    2009-03-17T05:03:31.000Z   \n",
       "...                          ...   \n",
       "348882  2010-05-19T01:24:09.000Z   \n",
       "348884  2010-03-18T14:02:00.000Z   \n",
       "349789  2010-07-12T15:24:32.000Z   \n",
       "351714  2009-03-08T19:32:04.000Z   \n",
       "351728  2008-06-04T17:03:00.000Z   \n",
       "\n",
       "                                              description          id  \\\n",
       "125     Minutenaktuelle News von jetzt auch mit Youtub...  2280206959   \n",
       "1574    Wir bieten Ihnen Webhosting, Webdesign, Domain...   169251474   \n",
       "1961     Aktuelle Meldungen des Tages auf einer Webseite.   718145940   \n",
       "2190                            Zyite is global retailer.  2543982944   \n",
       "2519    International Relations, Geoeconomics, Geopoli...    24842995   \n",
       "...                                                   ...         ...   \n",
       "348882  Noticias de Venezuela Lunes May 24, 2021 el $ ...   145459615   \n",
       "348884  Información e Investigación. \\nDESCARGA NUESTR...   124172948   \n",
       "349789  Geo is Pakistan's No. 1 TV Channel catering la...   165796189   \n",
       "351714                               Jernih Melihat Dunia    23343960   \n",
       "351728  Te informamos sobre las noticias más recientes...    15007299   \n",
       "\n",
       "                                               name       username  \\\n",
       "125     🎲 Policon automatisches Nachrichtenportal 👽    FreieWeltEu   \n",
       "1574                           joKotten Web&Service    jokottenweb   \n",
       "1961                                   Cityreport24     CityReport   \n",
       "2190                                      Zyite.com      zyiteblog   \n",
       "2519                                    Nino Brodin      Orgetorix   \n",
       "...                                             ...            ...   \n",
       "348882                                  DolarToday®     DolarToday   \n",
       "348884                                   La Patilla     la_patilla   \n",
       "349789                                Geo News Urdu   geonews_urdu   \n",
       "351714                                   Kompas.com      kompascom   \n",
       "351728                                  El Nacional  ElNacionalWeb   \n",
       "\n",
       "        followers_count  following_count  tweet_count      mean   count  \\\n",
       "125                 686             2209      1438914  0.115364  5565.0   \n",
       "1574                817              528      1225969  0.154083   649.0   \n",
       "1961               2077             4919      1157897  0.148240  1619.0   \n",
       "2190               1742             3663      1656367  0.000000    12.0   \n",
       "2519               3272             5000      1066395  0.116279   129.0   \n",
       "...                 ...              ...          ...       ...     ...   \n",
       "348882          3735658             3515      2133008       NaN     NaN   \n",
       "348884          7073110              181      5786940       NaN     NaN   \n",
       "349789          2992346               10      3319157       NaN     NaN   \n",
       "351714          8149995               25      1874023       NaN     NaN   \n",
       "351728          5157630           343304      7578804       NaN     NaN   \n",
       "\n",
       "       vaccine_stance  \n",
       "125       pro_neutral  \n",
       "1574      pro_neutral  \n",
       "1961      pro_neutral  \n",
       "2190      pro_neutral  \n",
       "2519      pro_neutral  \n",
       "...               ...  \n",
       "348882            NaN  \n",
       "348884            NaN  \n",
       "349789            NaN  \n",
       "351714            NaN  \n",
       "351728            NaN  \n",
       "\n",
       "[127 rows x 11 columns]"
      ]
     },
     "execution_count": 17,
     "metadata": {},
     "output_type": "execute_result"
    }
   ],
   "source": [
    "# See what accounts have the biggest tweet count  \n",
    "\n",
    "nodes_attributes[nodes_attributes['tweet_count']>1000000 ]"
   ]
  },
  {
   "cell_type": "code",
   "execution_count": 19,
   "metadata": {},
   "outputs": [
    {
     "data": {
      "text/plain": [
       "False    353743\n",
       "Name: name, dtype: int64"
      ]
     },
     "execution_count": 19,
     "metadata": {},
     "output_type": "execute_result"
    }
   ],
   "source": [
    "# Check for missing values in user names\n",
    "nodes_attributes.name.isna().value_counts()"
   ]
  },
  {
   "cell_type": "code",
   "execution_count": 20,
   "metadata": {},
   "outputs": [
    {
     "data": {
      "image/png": "[encoded data removed]",
      "text/plain": [
       "<Figure size 1152x576 with 1 Axes>"
      ]
     },
     "metadata": {
      "needs_background": "light"
     },
     "output_type": "display_data"
    }
   ],
   "source": [
    "# Plot frequency of tweets by day\n",
    "tweet_frequency_plot = data.groupby(data['created_at'].dt.date).size().reset_index(name='Count')\n",
    "plt.figure(figsize=(16,8))\n",
    "plt.margins(0.00, 0.05)\n",
    "plt.axvspan(dt.date(2019,3,1), dt.date(2020,4,25), color='lightskyblue', alpha=0.3)\n",
    "plt.axvspan(dt.date(2020,4,26), dt.date(2020,12,28), color='cornflowerblue', alpha=0.3)\n",
    "plt.axvspan(dt.date(2020,12,28), dt.date(2021,3,15), color='royalblue', alpha=0.3)\n",
    "plt.plot(tweet_frequency_plot.created_at, tweet_frequency_plot.Count )\n",
    "plt.title('Tweet frequency 2019/03/01 - 2021/03/15')\n",
    "plt.show()"
   ]
  },
  {
   "cell_type": "code",
   "execution_count": 21,
   "metadata": {},
   "outputs": [],
   "source": [
    "# Create edglists from dataset\n",
    "\n",
    "def create_edgelist(type, startdate, enddate):\n",
    "# date format = YYYY-MM-DD\n",
    "    selection = data.loc[(data['created_at'] > startdate) & (data['created_at'] <= enddate)& (data['type']==type)]\n",
    "    if type == 'retweeted':\n",
    "        return(selection[['author_id','id_retweeted_author']].groupby(['author_id','id_retweeted_author']).size().reset_index(name='weight').rename(columns={'author_id':\"source\", 'id_retweeted_author': \"target\"}))\n",
    "    elif  type == 'replied_to':\n",
    "         return(selection[['author_id','in_reply_to_user_id']].groupby(['author_id','in_reply_to_user_id']).size().reset_index(name='weight').rename(columns={'author_id':\"source\", 'in_reply_to_user_id': \"target\"}))\n",
    "    elif  type == 'quoted':\n",
    "        return(selection[['author_id','conversation_id']].groupby(['author_id','conversation_id']).size().reset_index(name='weight'))\n"
   ]
  },
  {
   "cell_type": "code",
   "execution_count": 22,
   "metadata": {},
   "outputs": [],
   "source": [
    "#Retweet networks\n",
    "Period1_edgelist_rt = create_edgelist('retweeted','2019-03-01','2020-03-25')\n",
    "Period2_edgelist_rt = create_edgelist('retweeted','2020-03-25','2020-12-28')\n",
    "Period3_edgelist_rt = create_edgelist('retweeted','2020-12-28','2021-03-15')\n",
    "\n",
    "#Reply networks\n",
    "Period1_edgelist_rp = create_edgelist('replied_to','2019-03-01','2020-03-25')\n",
    "Period2_edgelist_rp = create_edgelist('replied_to','2020-03-25','2020-12-28')\n",
    "Period3_edgelist_rp = create_edgelist('replied_to','2020-12-28','2021-03-15')"
   ]
  },
  {
   "cell_type": "markdown",
   "metadata": {},
   "source": [
    "## Network analysis using iGraph"
   ]
  },
  {
   "cell_type": "code",
   "execution_count": 23,
   "metadata": {},
   "outputs": [],
   "source": [
    "# Create retweet graphs from pandas \n",
    "G1RT = ig.Graph.TupleList(Period1_edgelist_rt.itertuples(index=False), directed=False, weights='weights')\n",
    "G2RT = ig.Graph.TupleList(Period2_edgelist_rt.itertuples(index=False), directed=False, weights='weights')\n",
    "G3RT = ig.Graph.TupleList(Period3_edgelist_rt.itertuples(index=False), directed=False, weights='weights')\n",
    "\n",
    "# Create retweet graphs from pandas \n",
    "G1RP = ig.Graph.TupleList(Period1_edgelist_rp.itertuples(index=False), directed=False, weights='weights')\n",
    "G2RP = ig.Graph.TupleList(Period2_edgelist_rp.itertuples(index=False), directed=False, weights='weights')\n",
    "G3RP = ig.Graph.TupleList(Period3_edgelist_rp.itertuples(index=False), directed=False, weights='weights')"
   ]
  },
  {
   "cell_type": "code",
   "execution_count": 24,
   "metadata": {},
   "outputs": [],
   "source": [
    "# loop over graph to add attributes (takes forever so it will be rather done after calculating network metrics)\n",
    "def add_attributes(x):\n",
    "    for i in range(0,len(x.vs)):\n",
    "        print('\\r',i,'of ',len(x.vs), end='')\n",
    "        user_id = x.vs[i]['name']\n",
    "        # x.vs[i]['username'] = attributes['username']\n",
    "        try:\n",
    "            if nodes_attributes.loc[nodes_attributes.id==user_id, 'vaccine_stance'].values[0] == 'anti_vaxx':\n",
    "                x.vs[i]['vaccine_stance'] = 1\n",
    "            else:\n",
    "                x.vs[i]['vaccine_stance'] = 0\n",
    "        except:\n",
    "            x.vs[i]['vaccine_stance'] = 0"
   ]
  },
  {
   "cell_type": "code",
   "execution_count": 14,
   "metadata": {},
   "outputs": [
    {
     "name": "stdout",
     "output_type": "stream",
     "text": [
      " 119360 of  119361"
     ]
    }
   ],
   "source": [
    "# Add vaccine stance to network models\n",
    "\n",
    "add_attributes(G1RT)\n",
    "add_attributes(G2RT)\n",
    "add_attributes(G3RT)\n",
    "\n",
    "add_attributes(G1RP)\n",
    "add_attributes(G2RP)\n",
    "add_attributes(G3RP)"
   ]
  },
  {
   "cell_type": "code",
   "execution_count": 15,
   "metadata": {},
   "outputs": [
    {
     "name": "stdout",
     "output_type": "stream",
     "text": [
      "G1RT IGRAPH UN-- 51799 107082 -- \n",
      "+ attr: name (v), vaccine_stance (v), weights (e) \n",
      " \n",
      " G2RT IGRAPH UN-- 123464 389602 -- \n",
      "+ attr: name (v), vaccine_stance (v), weights (e) \n",
      " \n",
      " G3RT IGRAPH UN-- 145770 718329 -- \n",
      "+ attr: name (v), vaccine_stance (v), weights (e)\n"
     ]
    }
   ],
   "source": [
    "# Retweet graphs overview\n",
    "print('G1RT', G1RT.summary(),'\\n \\n','G2RT', G2RT.summary(),'\\n \\n','G3RT', G3RT.summary())"
   ]
  },
  {
   "cell_type": "code",
   "execution_count": 16,
   "metadata": {},
   "outputs": [
    {
     "name": "stdout",
     "output_type": "stream",
     "text": [
      "G1RP IGRAPH UN-- 29107 36348 -- \n",
      "+ attr: name (v), vaccine_stance (v), weights (e) \n",
      " \n",
      " G2RP IGRAPH UN-- 94296 222373 -- \n",
      "+ attr: name (v), vaccine_stance (v), weights (e) \n",
      " \n",
      " G3RP IGRAPH UN-- 119361 349599 -- \n",
      "+ attr: name (v), vaccine_stance (v), weights (e)\n"
     ]
    }
   ],
   "source": [
    "# Replies graphs overview\n",
    "print('G1RP', G1RP.summary(),'\\n \\n','G2RP', G2RP.summary(),'\\n \\n','G3RP', G3RP.summary())"
   ]
  },
  {
   "cell_type": "markdown",
   "metadata": {},
   "source": [
    "### Community detection using iGraphs Leiden algorithm implementation"
   ]
  },
  {
   "cell_type": "code",
   "execution_count": 17,
   "metadata": {},
   "outputs": [],
   "source": [
    "# Run Leiden algorithm and return clustering element containing graph, communities and subgraphs\n",
    "def leiden(graph):\n",
    "    graphname = f'{graph=}'.split('=')[0]\n",
    "    #use built in igraph leiden solution\n",
    "    comm = graph.community_leiden( objective_function='modularity', weights='weights', resolution_parameter=0.2, initial_membership=None, n_iterations=-1)\n",
    "    print('modularity =', comm.modularity)\n",
    "    # print summary of communites and largest communities\n",
    "    print(comm.summary(verbosity=0))\n",
    "    a = comm.sizes()\n",
    "    a.sort(reverse=True)\n",
    "    print(\"Biggest communities:\" ,a[0:10])\n",
    "    graph.vs['community'] = comm.membership\n",
    "    return(comm)"
   ]
  },
  {
   "cell_type": "code",
   "execution_count": 18,
   "metadata": {},
   "outputs": [],
   "source": [
    "# Export graphml for each identified community\n",
    "def export_community_subgraphs(comm, name):\n",
    "    comm.graph.write_graphml(name+'fullgraph.graphml')\n",
    "    i = 0\n",
    "    for community in comm.subgraphs():\n",
    "        i += 1\n",
    "        # Only include clusters that make up at least 1 percent of the overall network \n",
    "        if community.vcount() > int(comm.graph.vcount()*0.025):\n",
    "            community.write_graphml(name+'community_'+str(i)+'.graphml')"
   ]
  },
  {
   "cell_type": "code",
   "execution_count": 22,
   "metadata": {},
   "outputs": [
    {
     "name": "stdout",
     "output_type": "stream",
     "text": [
      "modularity = 0.16101877114545382\n",
      "Clustering with 51799 elements and 831 clusters\n",
      "Biggest communities: [44737, 3678, 185, 101, 98, 80, 76, 53, 51, 38]\n",
      "modularity = 0.4765859026444126\n",
      "Clustering with 123464 elements and 1877 clusters\n",
      "Biggest communities: [89869, 18218, 6255, 1490, 416, 198, 138, 126, 121, 120]\n",
      "modularity = 0.4542375524539193\n",
      "Clustering with 145770 elements and 2155 clusters\n",
      "Biggest communities: [107072, 27985, 1718, 382, 284, 278, 231, 223, 220, 98]\n",
      "modularity = 0.569992117026495\n",
      "Clustering with 29107 elements and 4912 clusters\n",
      "Biggest communities: [12373, 1653, 560, 541, 499, 486, 468, 450, 312, 91]\n",
      "modularity = 0.2406096336818788\n",
      "Clustering with 94296 elements and 8531 clusters\n",
      "Biggest communities: [67179, 6179, 1500, 871, 344, 309, 67, 51, 46, 42]\n",
      "modularity = 0.28838939161886284\n",
      "Clustering with 119361 elements and 11577 clusters\n",
      "Biggest communities: [81276, 8949, 3794, 1080, 135, 104, 88, 67, 64, 51]\n"
     ]
    }
   ],
   "source": [
    " export_community_subgraphs(leiden(G1RT),\"period_1_retweet\")\n",
    " export_community_subgraphs(leiden(G2RT),\"period_2_retweet\")\n",
    " export_community_subgraphs(leiden(G3RT),\"period_3_retweet\")\n",
    "\n",
    "\n",
    "export_community_subgraphs(leiden(G1RP),\"period_1_reply\")\n",
    "export_community_subgraphs(leiden(G2RP),\"period_2_reply\")\n",
    "export_community_subgraphs(leiden(G3RP),\"period_3_reply\")"
   ]
  },
  {
   "cell_type": "code",
   "execution_count": 19,
   "metadata": {},
   "outputs": [],
   "source": [
    "# Export summary table to Latex-format\n",
    "\n",
    "retweet_table = pd.DataFrame(retweet_communities, columns=['period','nodes','edges','density','mean_degree'])\n",
    "with open('/Users/D/Dropbox/Apps/Overleaf/Master_thesis_010621/tables/retweet_communities.tex','w') as tf:\n",
    "    tf.write(retweet_table.to_latex(header=['Period','Nodes','Edges','Density','Mean Degree'], float_format=\"{:0.6f}\".format ,index=False,\n",
    "    caption='Retweet networks: Communities in the Covid-19 vaccination-related retweet network on Twitter, accounting for more than 2.5 percent of the overall network size'))"
   ]
  },
  {
   "cell_type": "markdown",
   "metadata": {},
   "source": [
    "### Get graph level measurements for communities"
   ]
  },
  {
   "cell_type": "code",
   "execution_count": 8,
   "metadata": {},
   "outputs": [],
   "source": [
    "# Load full list of tweets\n",
    "\n",
    "all_tweets = pd.read_pickle('/Users/D/final_edgelist_180521.pkl') "
   ]
  },
  {
   "cell_type": "code",
   "execution_count": 5,
   "metadata": {},
   "outputs": [],
   "source": [
    "# Reload exported dataset to maintain consistancy across random element in Leiden algorithm\n",
    "\n",
    "#Retweet\n",
    "RT1 = ig.load('/Users/D/Google Drive/UVA Arbeitsmaterial/2020:2021/Thesis/Thesis code/Network modeling/Network models exports/period_1_retweetcommunity_1.graphml')\n",
    "RT2 = ig.load('/Users/D/Google Drive/UVA Arbeitsmaterial/2020:2021/Thesis/Thesis code/Network modeling/Network models exports/period_1_retweetcommunity_7.graphml')\n",
    "RT3 = ig.load('/Users/D/Google Drive/UVA Arbeitsmaterial/2020:2021/Thesis/Thesis code/Network modeling/Network models exports/period_2_retweetcommunity_1.graphml')\n",
    "RT4 = ig.load('/Users/D/Google Drive/UVA Arbeitsmaterial/2020:2021/Thesis/Thesis code/Network modeling/Network models exports/period_2_retweetcommunity_2.graphml')\n",
    "RT5 = ig.load('/Users/D/Google Drive/UVA Arbeitsmaterial/2020:2021/Thesis/Thesis code/Network modeling/Network models exports/period_2_retweetcommunity_6.graphml')\n",
    "RT6 = ig.load('/Users/D/Google Drive/UVA Arbeitsmaterial/2020:2021/Thesis/Thesis code/Network modeling/Network models exports/period_3_retweetcommunity_3.graphml')\n",
    "RT7 = ig.load('/Users/D/Google Drive/UVA Arbeitsmaterial/2020:2021/Thesis/Thesis code/Network modeling/Network models exports/period_3_retweetcommunity_4.graphml')\n",
    "\n",
    "#Retweet\n",
    "RP1 = ig.load('/Users/D/Google Drive/UVA Arbeitsmaterial/2020:2021/Thesis/Thesis code/Network modeling/Network models exports/period_1_replycommunity_2.graphml')\n",
    "RP2 = ig.load('/Users/D/Google Drive/UVA Arbeitsmaterial/2020:2021/Thesis/Thesis code/Network modeling/Network models exports/period_1_replycommunity_21.graphml')\n",
    "RP3 = ig.load('/Users/D/Google Drive/UVA Arbeitsmaterial/2020:2021/Thesis/Thesis code/Network modeling/Network models exports/period_2_replycommunity_1.graphml')\n",
    "RP4 = ig.load('/Users/D/Google Drive/UVA Arbeitsmaterial/2020:2021/Thesis/Thesis code/Network modeling/Network models exports/period_2_replycommunity_9.graphml')\n",
    "RP5 = ig.load('/Users/D/Google Drive/UVA Arbeitsmaterial/2020:2021/Thesis/Thesis code/Network modeling/Network models exports/period_3_replycommunity_2.graphml')\n",
    "RP6 = ig.load('/Users/D/Google Drive/UVA Arbeitsmaterial/2020:2021/Thesis/Thesis code/Network modeling/Network models exports/period_3_replycommunity_5.graphml')\n",
    "RP7 = ig.load('/Users/D/Google Drive/UVA Arbeitsmaterial/2020:2021/Thesis/Thesis code/Network modeling/Network models exports/period_3_replycommunity_19.graphml')\n"
   ]
  },
  {
   "cell_type": "code",
   "execution_count": 6,
   "metadata": {},
   "outputs": [],
   "source": [
    "# Function to get the percentage of nodes identified as expressing an anti-vaccination stance\n",
    "\n",
    "def get_percentage_antivaxx_users(x, tweettype,startdate,enddate ):\n",
    "    all_authors_linked_to_tweet_content = list(all_tweets['author_id'].loc[(all_tweets['created_at'] > startdate) & (all_tweets['created_at'] <= enddate)&(all_tweets['type']==tweettype)].drop_duplicates())\n",
    "    vaccine_stance_list = []\n",
    "    for a in x.vs:\n",
    "         if a['name'] in all_authors_linked_to_tweet_content:\n",
    "            vaccine_stance_list.append(a['vaccine_stance'])\n",
    "    anti_vax = [i for i in vaccine_stance_list if i != 0.0]\n",
    "    percentage_antivax_users = len(anti_vax)/len(vaccine_stance_list)*100\n",
    "    return(percentage_antivax_users)"
   ]
  },
  {
   "cell_type": "code",
   "execution_count": 7,
   "metadata": {},
   "outputs": [
    {
     "ename": "NameError",
     "evalue": "name 'all_tweets' is not defined",
     "output_type": "error",
     "traceback": [
      "\u001b[0;31m---------------------------------------------------------------------------\u001b[0m",
      "\u001b[0;31mNameError\u001b[0m                                 Traceback (most recent call last)",
      "\u001b[0;32m<ipython-input-7-03d48a655d00>\u001b[0m in \u001b[0;36m<module>\u001b[0;34m\u001b[0m\n\u001b[1;32m      8\u001b[0m                   \u001b[0;34m[\u001b[0m\u001b[0mRT6\u001b[0m\u001b[0;34m,\u001b[0m \u001b[0;34m'retweeted'\u001b[0m\u001b[0;34m,\u001b[0m \u001b[0;34m'2020-12-28'\u001b[0m\u001b[0;34m,\u001b[0m\u001b[0;34m'2021-03-15'\u001b[0m\u001b[0;34m]\u001b[0m\u001b[0;34m,\u001b[0m\u001b[0;34m\u001b[0m\u001b[0;34m\u001b[0m\u001b[0m\n\u001b[1;32m      9\u001b[0m                   [RT7, 'retweeted', '2020-12-28','2021-03-15']]:\n\u001b[0;32m---> 10\u001b[0;31m     \u001b[0mprint\u001b[0m\u001b[0;34m(\u001b[0m\u001b[0mget_percentage_antivaxx_users\u001b[0m\u001b[0;34m(\u001b[0m\u001b[0mc\u001b[0m\u001b[0;34m[\u001b[0m\u001b[0;36m0\u001b[0m\u001b[0;34m]\u001b[0m\u001b[0;34m,\u001b[0m\u001b[0mc\u001b[0m\u001b[0;34m[\u001b[0m\u001b[0;36m1\u001b[0m\u001b[0;34m]\u001b[0m\u001b[0;34m,\u001b[0m\u001b[0mc\u001b[0m\u001b[0;34m[\u001b[0m\u001b[0;36m2\u001b[0m\u001b[0;34m]\u001b[0m\u001b[0;34m,\u001b[0m\u001b[0mc\u001b[0m\u001b[0;34m[\u001b[0m\u001b[0;36m3\u001b[0m\u001b[0;34m]\u001b[0m\u001b[0;34m)\u001b[0m\u001b[0;34m)\u001b[0m\u001b[0;34m\u001b[0m\u001b[0;34m\u001b[0m\u001b[0m\n\u001b[0m",
      "\u001b[0;32m<ipython-input-6-a140223b9f13>\u001b[0m in \u001b[0;36mget_percentage_antivaxx_users\u001b[0;34m(x, tweettype, startdate, enddate)\u001b[0m\n\u001b[1;32m      1\u001b[0m \u001b[0;32mdef\u001b[0m \u001b[0mget_percentage_antivaxx_users\u001b[0m\u001b[0;34m(\u001b[0m\u001b[0mx\u001b[0m\u001b[0;34m,\u001b[0m \u001b[0mtweettype\u001b[0m\u001b[0;34m,\u001b[0m\u001b[0mstartdate\u001b[0m\u001b[0;34m,\u001b[0m\u001b[0menddate\u001b[0m \u001b[0;34m)\u001b[0m\u001b[0;34m:\u001b[0m\u001b[0;34m\u001b[0m\u001b[0;34m\u001b[0m\u001b[0m\n\u001b[0;32m----> 2\u001b[0;31m     \u001b[0mall_authors_linked_to_tweet_content\u001b[0m \u001b[0;34m=\u001b[0m \u001b[0mlist\u001b[0m\u001b[0;34m(\u001b[0m\u001b[0mall_tweets\u001b[0m\u001b[0;34m[\u001b[0m\u001b[0;34m'author_id'\u001b[0m\u001b[0;34m]\u001b[0m\u001b[0;34m.\u001b[0m\u001b[0mloc\u001b[0m\u001b[0;34m[\u001b[0m\u001b[0;34m(\u001b[0m\u001b[0mall_tweets\u001b[0m\u001b[0;34m[\u001b[0m\u001b[0;34m'created_at'\u001b[0m\u001b[0;34m]\u001b[0m \u001b[0;34m>\u001b[0m \u001b[0mstartdate\u001b[0m\u001b[0;34m)\u001b[0m \u001b[0;34m&\u001b[0m \u001b[0;34m(\u001b[0m\u001b[0mall_tweets\u001b[0m\u001b[0;34m[\u001b[0m\u001b[0;34m'created_at'\u001b[0m\u001b[0;34m]\u001b[0m \u001b[0;34m<=\u001b[0m \u001b[0menddate\u001b[0m\u001b[0;34m)\u001b[0m\u001b[0;34m&\u001b[0m\u001b[0;34m(\u001b[0m\u001b[0mall_tweets\u001b[0m\u001b[0;34m[\u001b[0m\u001b[0;34m'type'\u001b[0m\u001b[0;34m]\u001b[0m\u001b[0;34m==\u001b[0m\u001b[0mtweettype\u001b[0m\u001b[0;34m)\u001b[0m\u001b[0;34m]\u001b[0m\u001b[0;34m.\u001b[0m\u001b[0mdrop_duplicates\u001b[0m\u001b[0;34m(\u001b[0m\u001b[0;34m)\u001b[0m\u001b[0;34m)\u001b[0m\u001b[0;34m\u001b[0m\u001b[0;34m\u001b[0m\u001b[0m\n\u001b[0m\u001b[1;32m      3\u001b[0m     \u001b[0mvaccine_stance_list\u001b[0m \u001b[0;34m=\u001b[0m \u001b[0;34m[\u001b[0m\u001b[0;34m]\u001b[0m\u001b[0;34m\u001b[0m\u001b[0;34m\u001b[0m\u001b[0m\n\u001b[1;32m      4\u001b[0m     \u001b[0;32mfor\u001b[0m \u001b[0ma\u001b[0m \u001b[0;32min\u001b[0m \u001b[0mx\u001b[0m\u001b[0;34m.\u001b[0m\u001b[0mvs\u001b[0m\u001b[0;34m:\u001b[0m\u001b[0;34m\u001b[0m\u001b[0;34m\u001b[0m\u001b[0m\n\u001b[1;32m      5\u001b[0m          \u001b[0;32mif\u001b[0m \u001b[0ma\u001b[0m\u001b[0;34m[\u001b[0m\u001b[0;34m'name'\u001b[0m\u001b[0;34m]\u001b[0m \u001b[0;32min\u001b[0m \u001b[0mall_authors_linked_to_tweet_content\u001b[0m\u001b[0;34m:\u001b[0m\u001b[0;34m\u001b[0m\u001b[0;34m\u001b[0m\u001b[0m\n",
      "\u001b[0;31mNameError\u001b[0m: name 'all_tweets' is not defined"
     ]
    }
   ],
   "source": [
    "# Get percentages of anti-vaxx users for retweet network \n",
    "\n",
    "for c in [[RT1, 'retweeted', '2019-03-01', '2020-03-25'],\n",
    "                  [RT2, 'retweeted', '2019-03-01', '2020-03-25'],\n",
    "                  [RT3, 'retweeted', '2020-03-25','2020-12-28'],\n",
    "                  [RT4, 'retweeted', '2020-03-25','2020-12-28'],\n",
    "                  [RT5, 'retweeted', '2020-03-25','2020-12-28'],\n",
    "                  [RT6, 'retweeted', '2020-12-28','2021-03-15'],\n",
    "                  [RT7, 'retweeted', '2020-12-28','2021-03-15']]:\n",
    "    print(get_percentage_antivaxx_users(c[0],c[1],c[2],c[3]))\n"
   ]
  },
  {
   "cell_type": "code",
   "execution_count": null,
   "metadata": {},
   "outputs": [
    {
     "ename": "NameError",
     "evalue": "name 'RP1' is not defined",
     "output_type": "error",
     "traceback": [
      "\u001b[0;31m---------------------------------------------------------------------------\u001b[0m",
      "\u001b[0;31mNameError\u001b[0m                                 Traceback (most recent call last)",
      "\u001b[0;32m<ipython-input-1-4b95532b0cfb>\u001b[0m in \u001b[0;36m<module>\u001b[0;34m\u001b[0m\n\u001b[0;32m----> 1\u001b[0;31m for c in [[RP1, 'replied_to', '2019-03-01', '2020-03-25'],\n\u001b[0m\u001b[1;32m      2\u001b[0m                   \u001b[0;34m[\u001b[0m\u001b[0mRP2\u001b[0m\u001b[0;34m,\u001b[0m \u001b[0;34m'replied_to'\u001b[0m\u001b[0;34m,\u001b[0m \u001b[0;34m'2019-03-01'\u001b[0m\u001b[0;34m,\u001b[0m \u001b[0;34m'2020-03-25'\u001b[0m\u001b[0;34m]\u001b[0m\u001b[0;34m,\u001b[0m\u001b[0;34m\u001b[0m\u001b[0;34m\u001b[0m\u001b[0m\n\u001b[1;32m      3\u001b[0m                   \u001b[0;34m[\u001b[0m\u001b[0mRP3\u001b[0m\u001b[0;34m,\u001b[0m \u001b[0;34m'replied_to'\u001b[0m\u001b[0;34m,\u001b[0m \u001b[0;34m'2020-03-25'\u001b[0m\u001b[0;34m,\u001b[0m\u001b[0;34m'2020-12-28'\u001b[0m\u001b[0;34m]\u001b[0m\u001b[0;34m,\u001b[0m\u001b[0;34m\u001b[0m\u001b[0;34m\u001b[0m\u001b[0m\n\u001b[1;32m      4\u001b[0m                   \u001b[0;34m[\u001b[0m\u001b[0mRP4\u001b[0m\u001b[0;34m,\u001b[0m \u001b[0;34m'replied_to'\u001b[0m\u001b[0;34m,\u001b[0m \u001b[0;34m'2020-03-25'\u001b[0m\u001b[0;34m,\u001b[0m\u001b[0;34m'2020-12-28'\u001b[0m\u001b[0;34m]\u001b[0m\u001b[0;34m,\u001b[0m\u001b[0;34m\u001b[0m\u001b[0;34m\u001b[0m\u001b[0m\n\u001b[1;32m      5\u001b[0m                   \u001b[0;34m[\u001b[0m\u001b[0mRP5\u001b[0m\u001b[0;34m,\u001b[0m \u001b[0;34m'replied_to'\u001b[0m\u001b[0;34m,\u001b[0m \u001b[0;34m'2020-12-28'\u001b[0m\u001b[0;34m,\u001b[0m\u001b[0;34m'2021-03-15'\u001b[0m\u001b[0;34m]\u001b[0m\u001b[0;34m,\u001b[0m\u001b[0;34m\u001b[0m\u001b[0;34m\u001b[0m\u001b[0m\n",
      "\u001b[0;31mNameError\u001b[0m: name 'RP1' is not defined"
     ]
    }
   ],
   "source": [
    "for c in [[RP1, 'replied_to', '2019-03-01', '2020-03-25'],\n",
    "                  [RP2, 'replied_to', '2019-03-01', '2020-03-25'],\n",
    "                  [RP3, 'replied_to', '2020-03-25','2020-12-28'],\n",
    "                  [RP4, 'replied_to', '2020-03-25','2020-12-28'],\n",
    "                  [RP5, 'replied_to', '2020-12-28','2021-03-15'],\n",
    "                  [RP6, 'replied_to', '2020-12-28','2021-03-15'],\n",
    "                  [RP7, 'replied_to', '2020-12-28','2021-03-15']]:\n",
    "    print(get_percentage_antivaxx_users(c[0],c[1],c[2],c[3]))\n"
   ]
  },
  {
   "cell_type": "code",
   "execution_count": null,
   "metadata": {},
   "outputs": [],
   "source": [
    "# Function to get activity measurement for each community\n",
    "\n",
    "def get_activity_per_community(x, tweettype,startdate,enddate ):\n",
    "    tweets_in_cluster = all_tweets.loc[(all_tweets['created_at'] > startdate) & (all_tweets['created_at'] <= enddate)&(all_tweets['type']==tweettype)]\n",
    "    author_per_cluster_list = []\n",
    "    author_list = []\n",
    "    for node in x.vs:\n",
    "        author_list.append(node['name'])\n",
    "    community_author_list = pd.Series(author_list, name=\"id\").to_frame()\n",
    "    selection = tweets_in_cluster.merge(community_author_list , left_on='id_author', right_on='id', how='right')\n",
    "    return(len(selection)/len(author_list))"
   ]
  },
  {
   "cell_type": "code",
   "execution_count": null,
   "metadata": {},
   "outputs": [
    {
     "name": "stdout",
     "output_type": "stream",
     "text": [
      "2.4350314057715092\n",
      "2.5250135943447525\n",
      "3.3641856479987537\n",
      "9.518992205511033\n",
      "1.0335731414868106\n",
      "5.38348027495517\n",
      "13.719635519028051\n"
     ]
    }
   ],
   "source": [
    "# Activity: Get ratio of tweets per author of tweets per cluster (Retweeted)\n",
    "\n",
    "for c in [[RT1, 'retweeted', '2019-03-01', '2020-03-25'],\n",
    "                  [RT2, 'retweeted', '2019-03-01', '2020-03-25'],\n",
    "                  [RT3, 'retweeted', '2020-03-25','2020-12-28'],\n",
    "                  [RT4, 'retweeted', '2020-03-25','2020-12-28'],\n",
    "                  [RT5, 'retweeted', '2020-03-25','2020-12-28'],\n",
    "                  [RT6, 'retweeted', '2020-12-28','2021-03-15'],\n",
    "                  [RT7, 'retweeted', '2020-12-28','2021-03-15']]:\n",
    "    print(get_activity_per_community(c[0],c[1],c[2],c[3]))"
   ]
  },
  {
   "cell_type": "code",
   "execution_count": null,
   "metadata": {},
   "outputs": [
    {
     "name": "stdout",
     "output_type": "stream",
     "text": [
      "2.453083326598238\n",
      "1.6721113127646703\n",
      "3.6790663749088255\n",
      "3.244699789609969\n",
      "4.730449333136473\n",
      "5.013297575148061\n",
      "4.170268845545598\n"
     ]
    }
   ],
   "source": [
    "# Activity: Get ratio of tweets per author of tweets per cluster (Replied To )\n",
    "\n",
    "for c in [[RP1, 'replied_to', '2019-03-01', '2020-03-25'],\n",
    "                  [RP2, 'replied_to', '2019-03-01', '2020-03-25'],\n",
    "                  [RP3, 'replied_to', '2020-03-25','2020-12-28'],\n",
    "                  [RP4, 'replied_to', '2020-03-25','2020-12-28'],\n",
    "                  [RP5, 'replied_to', '2020-12-28','2021-03-15'],\n",
    "                  [RP6, 'replied_to', '2020-12-28','2021-03-15'],\n",
    "                  [RP7, 'replied_to', '2020-12-28','2021-03-15']]:\n",
    "    print(get_activity_per_community(c[0],c[1],c[2],c[3]))"
   ]
  },
  {
   "cell_type": "markdown",
   "metadata": {},
   "source": [
    "### Exploratory content Analysis: Get the most important word per community"
   ]
  },
  {
   "cell_type": "code",
   "execution_count": 9,
   "metadata": {},
   "outputs": [],
   "source": [
    "# Only keep relevant columns to help performance\n",
    "all_tweets = all_tweets[['id_author','text','type','created_at']]\n"
   ]
  },
  {
   "cell_type": "code",
   "execution_count": 14,
   "metadata": {},
   "outputs": [],
   "source": [
    "# Get stopwords in German and English (the latter because Twitter users tend to have english profile descriptions )\n",
    "german_stop_words = stopwords.words('german')\n",
    "en_stop_words = stopwords.words('english')\n",
    "german_stop_words.extend(en_stop_words)\n",
    "german_stop_words.extend(['https','für','in','die', 'der','co','rt','mal','de','nan','eu','schon','eigentlich','schon', 'beim','the', 'and', 'of', 'is', 'she','her','him','he','my','me','it','en','la','por','do','que'])\n",
    "\n",
    "def tweet_preprocessing(x):\n",
    "    # Remove all the special characters\n",
    "    text = re.sub(r'\\W', ' ', str(x))\n",
    "    # remove all single characters\n",
    "    text = re.sub(r'\\s+[a-zA-Z]\\s+', ' ', text)\n",
    "    # Substituting multiple spaces with single space\n",
    "    text= re.sub(r'\\s+', ' ', text, flags=re.I)\n",
    "    text = text.lower()\n",
    "    text = ' '.join(re.sub(\"(@[a-zA-ZäöüÄÖÜß0-9]+)|([^0-9a-zA-ZäöüÄÖÜß \\t])|(\\w+:\\/\\/\\S+)\",\" \",text).split())\n",
    "    return(text)\n",
    "\n",
    "# Functions for extracting most important words per community/ aggregated profile description or tweets\n",
    "\n",
    "def get_tfidf_top_features(documents,n_top=20):\n",
    "  tfidf_vectorizer = TfidfVectorizer(max_df=0.80, min_df=10, max_features=500,ngram_range=(1,1), stop_words=german_stop_words)\n",
    "  tfidf = tfidf_vectorizer.fit_transform(documents)\n",
    "  importance = np.argsort(np.asarray(tfidf.sum(axis=0)).ravel())[::-1]\n",
    "  tfidf_feature_names = np.array(tfidf_vectorizer.get_feature_names())\n",
    "  return tfidf_feature_names[importance[:n_top]]\n",
    "\n",
    "def most_common_words_in_graph(graph, tweettype, startdate, enddate):\n",
    "    selection = all_tweets.loc[(all_tweets['created_at'] > startdate) & (all_tweets['created_at'] <= enddate)& (all_tweets['type']==tweettype)]\n",
    "    author_list = []\n",
    "    for node in graph.vs:\n",
    "        author_list.append(node['name'])\n",
    "    community_author_list = pd.Series(author_list,\n",
    "              name=\"id\").to_frame()\n",
    "    selection = selection.merge(community_author_list , left_on='id_author', right_on='id', how='right').text.apply(lambda x: tweet_preprocessing(x))\n",
    "    return(get_tfidf_top_features(list(selection),75))\n",
    "\n",
    "def most_common_words_in_profile_descriptions(graph):\n",
    "    author_list = []\n",
    "    for node in graph.vs:\n",
    "        author_list.append(node['name'])\n",
    "    community_author_list = pd.Series(author_list,\n",
    "              name=\"id\").to_frame()\n",
    "    selection = community_author_list.merge(nodes_attributes , left_on='id', right_on='id', how='left').description.apply(lambda x: tweet_preprocessing(x))\n",
    "    return(get_tfidf_top_features(list(selection),50))\n",
    "\n",
    "def unique_words_per_period(l1,l2):\n",
    "    list_1 = [str(word) for word in l1 if word not in l2]\n",
    "    list_2 = [str(word) for word in l2 if word not in l1]\n",
    "    return(list_1)"
   ]
  },
  {
   "cell_type": "code",
   "execution_count": 21,
   "metadata": {},
   "outputs": [],
   "source": [
    "# Content analysis: Most important words for retweet network\n",
    "\n",
    "list_mostcommon = []\n",
    "profile_descriptions = []\n",
    "for c in [[RT1, 'retweeted', '2019-03-01', '2020-03-25'],\n",
    "                  [RT2, 'retweeted', '2019-03-01', '2020-03-25'],\n",
    "                  [RT3, 'retweeted', '2020-03-25','2020-12-28'],\n",
    "                  [RT4, 'retweeted', '2020-03-25','2020-12-28'],\n",
    "                  [RT5, 'retweeted', '2020-03-25','2020-12-28'],\n",
    "                  [RT6, 'retweeted', '2020-12-28','2021-03-15'],\n",
    "                  [RT7, 'retweeted', '2020-12-28','2021-03-15']]:\n",
    "    list_mostcommon.append(list(most_common_words_in_graph(c[0],c[1],c[2],c[3])))\n",
    "    profile_descriptions.append(most_common_words_in_profile_descriptions(c[0]))\n",
    "\n",
    "list_mostcommon_clean = ['RT1','RT2','RT3','RT4','RT5','RT6','RT7']\n",
    "list_mostcommon_clean[0] = unique_words_per_period(list_mostcommon[0],list_mostcommon[1])\n",
    "list_mostcommon_clean[1] = unique_words_per_period(list_mostcommon[1],list_mostcommon[0])\n",
    "list_mostcommon_clean[2] = unique_words_per_period(list_mostcommon[2],list_mostcommon[3])\n",
    "list_mostcommon_clean[3] = unique_words_per_period(list_mostcommon[3],list_mostcommon[2])\n",
    "list_mostcommon_clean[4] = list_mostcommon[4]\n",
    "list_mostcommon_clean[5] = unique_words_per_period(list_mostcommon[5],list_mostcommon[6])\n",
    "list_mostcommon_clean[6] = unique_words_per_period(list_mostcommon[6],list_mostcommon[5])\n",
    "\n",
    "content_analysis = pd.DataFrame()\n",
    "content_analysis['ids'] = ['RT1','RT2','RT3','RT4','RT5','RT6','RT7']\n",
    "content_analysis['profiles'] = profile_descriptions\n",
    "content_analysis['important_words'] = list_mostcommon_clean"
   ]
  },
  {
   "cell_type": "code",
   "execution_count": 22,
   "metadata": {},
   "outputs": [
    {
     "data": {
      "text/html": [
       "<div>\n",
       "<style scoped>\n",
       "    .dataframe tbody tr th:only-of-type {\n",
       "        vertical-align: middle;\n",
       "    }\n",
       "\n",
       "    .dataframe tbody tr th {\n",
       "        vertical-align: top;\n",
       "    }\n",
       "\n",
       "    .dataframe thead th {\n",
       "        text-align: right;\n",
       "    }\n",
       "</style>\n",
       "<table border=\"1\" class=\"dataframe\">\n",
       "  <thead>\n",
       "    <tr style=\"text-align: right;\">\n",
       "      <th></th>\n",
       "      <th>ids</th>\n",
       "      <th>profiles</th>\n",
       "      <th>important_words</th>\n",
       "    </tr>\n",
       "  </thead>\n",
       "  <tbody>\n",
       "    <tr>\n",
       "      <th>0</th>\n",
       "      <td>RT1</td>\n",
       "      <td>[privat, leben, politik, fan, noafd, tweets, i...</td>\n",
       "      <td>[nataliegrams, kind, impfungen, land, tübingen...</td>\n",
       "    </tr>\n",
       "    <tr>\n",
       "      <th>1</th>\n",
       "      <td>RT2</td>\n",
       "      <td>[afd, freiheit, politik, leben, deutschland, w...</td>\n",
       "      <td>[spahn, deutschen, steinhoefel, ddbnews, impfs...</td>\n",
       "    </tr>\n",
       "    <tr>\n",
       "      <th>2</th>\n",
       "      <td>RT3</td>\n",
       "      <td>[privat, politik, leben, berlin, tweets, noafd...</td>\n",
       "      <td>[karl, ersten, impfungen, innen, volksverpetze...</td>\n",
       "    </tr>\n",
       "    <tr>\n",
       "      <th>3</th>\n",
       "      <td>RT4</td>\n",
       "      <td>[freiheit, leben, wer, afd, immer, deutschland...</td>\n",
       "      <td>[shomburg, gates, franz, reitschuster, spahn, ...</td>\n",
       "    </tr>\n",
       "    <tr>\n",
       "      <th>4</th>\n",
       "      <td>RT5</td>\n",
       "      <td>[like, ig, blm, life, love, gay, el, blacklive...</td>\n",
       "      <td>[5ohvrcslfd, tomzohar, mqauo7vkdr, trixiematte...</td>\n",
       "    </tr>\n",
       "    <tr>\n",
       "      <th>5</th>\n",
       "      <td>RT6</td>\n",
       "      <td>[privat, fan, leben, politik, berlin, account,...</td>\n",
       "      <td>[karl, lauterbach, impfzentrum, innen, leute, ...</td>\n",
       "    </tr>\n",
       "    <tr>\n",
       "      <th>6</th>\n",
       "      <td>RT7</td>\n",
       "      <td>[freiheit, leben, liberal, wer, politik, immer...</td>\n",
       "      <td>[impfpflicht, merkel, reitschuster, spahn, wel...</td>\n",
       "    </tr>\n",
       "  </tbody>\n",
       "</table>\n",
       "</div>"
      ],
      "text/plain": [
       "   ids                                           profiles  \\\n",
       "0  RT1  [privat, leben, politik, fan, noafd, tweets, i...   \n",
       "1  RT2  [afd, freiheit, politik, leben, deutschland, w...   \n",
       "2  RT3  [privat, politik, leben, berlin, tweets, noafd...   \n",
       "3  RT4  [freiheit, leben, wer, afd, immer, deutschland...   \n",
       "4  RT5  [like, ig, blm, life, love, gay, el, blacklive...   \n",
       "5  RT6  [privat, fan, leben, politik, berlin, account,...   \n",
       "6  RT7  [freiheit, leben, liberal, wer, politik, immer...   \n",
       "\n",
       "                                     important_words  \n",
       "0  [nataliegrams, kind, impfungen, land, tübingen...  \n",
       "1  [spahn, deutschen, steinhoefel, ddbnews, impfs...  \n",
       "2  [karl, ersten, impfungen, innen, volksverpetze...  \n",
       "3  [shomburg, gates, franz, reitschuster, spahn, ...  \n",
       "4  [5ohvrcslfd, tomzohar, mqauo7vkdr, trixiematte...  \n",
       "5  [karl, lauterbach, impfzentrum, innen, leute, ...  \n",
       "6  [impfpflicht, merkel, reitschuster, spahn, wel...  "
      ]
     },
     "execution_count": 22,
     "metadata": {},
     "output_type": "execute_result"
    }
   ],
   "source": [
    "content_analysis"
   ]
  },
  {
   "cell_type": "code",
   "execution_count": 17,
   "metadata": {},
   "outputs": [],
   "source": [
    "# Content analysis: Most important words for replied-to network\n",
    "\n",
    "list_mostcommon_rp = []\n",
    "profile_descriptions_rp = []\n",
    "for c in [[RP1, 'replied_to', '2019-03-01', '2020-03-25'],\n",
    "                  [RP2, 'replied_to', '2019-03-01', '2020-03-25'],\n",
    "                  [RP3, 'replied_to', '2020-03-25','2020-12-28'],\n",
    "                  [RP4, 'replied_to', '2020-03-25','2020-12-28'],\n",
    "                  [RP5, 'replied_to', '2020-03-25','2020-12-28'],\n",
    "                  [RP6, 'replied_to', '2020-12-28','2021-03-15'],\n",
    "                  [RP7, 'replied_to', '2020-12-28','2021-03-15']]:\n",
    "    list_mostcommon_rp.append(list(most_common_words_in_graph(c[0],c[1],c[2],c[3])))\n",
    "    profile_descriptions_rp.append(most_common_words_in_profile_descriptions(c[0]))\n",
    "\n",
    "list_mostcommon_clean_rp = ['RP1','RP2','RP3','RP4','RP5','RP6','RP7']\n",
    "list_mostcommon_clean_rp[0] = unique_words_per_period(list_mostcommon_rp[0],list_mostcommon_rp[1])\n",
    "list_mostcommon_clean_rp[1] = unique_words_per_period(list_mostcommon_rp[1],list_mostcommon_rp[0])\n",
    "list_mostcommon_clean_rp[2] = unique_words_per_period(list_mostcommon_rp[2],list_mostcommon_rp[3])\n",
    "list_mostcommon_clean_rp[3] = unique_words_per_period(list_mostcommon_rp[3],list_mostcommon_rp[2])\n",
    "list_mostcommon_clean_rp[4] = unique_words_per_period(list_mostcommon_rp[4],list_mostcommon_rp[5])\n",
    "list_mostcommon_clean_rp[5] = unique_words_per_period(list_mostcommon_rp[5],list_mostcommon_rp[4])\n",
    "list_mostcommon_clean_rp[6] = list_mostcommon_rp[6]\n",
    "\n",
    "content_analysis_rp = pd.DataFrame()\n",
    "content_analysis_rp['ids'] = ['RP1','RP2','RP3','RP4','RP5','RP6','RP7']\n",
    "content_analysis_rp['profiles'] = profile_descriptions_rp\n",
    "content_analysis_rp['important_words'] = list_mostcommon_clean_rp"
   ]
  },
  {
   "cell_type": "code",
   "execution_count": 19,
   "metadata": {},
   "outputs": [
    {
     "data": {
      "text/html": [
       "<div>\n",
       "<style scoped>\n",
       "    .dataframe tbody tr th:only-of-type {\n",
       "        vertical-align: middle;\n",
       "    }\n",
       "\n",
       "    .dataframe tbody tr th {\n",
       "        vertical-align: top;\n",
       "    }\n",
       "\n",
       "    .dataframe thead th {\n",
       "        text-align: right;\n",
       "    }\n",
       "</style>\n",
       "<table border=\"1\" class=\"dataframe\">\n",
       "  <thead>\n",
       "    <tr style=\"text-align: right;\">\n",
       "      <th></th>\n",
       "      <th>ids</th>\n",
       "      <th>profiles</th>\n",
       "      <th>important_words</th>\n",
       "    </tr>\n",
       "  </thead>\n",
       "  <tbody>\n",
       "    <tr>\n",
       "      <th>0</th>\n",
       "      <td>RP1</td>\n",
       "      <td>[leben, noafd, politik, immer, privat, mehr, f...</td>\n",
       "      <td>[jensspahn, nataliegrams, impfungen, tagesscha...</td>\n",
       "    </tr>\n",
       "    <tr>\n",
       "      <th>1</th>\n",
       "      <td>RP2</td>\n",
       "      <td>[politik, tweets, journalist, account, privat,...</td>\n",
       "      <td>[trump, influenza, franz, halt, strobl, natasc...</td>\n",
       "    </tr>\n",
       "    <tr>\n",
       "      <th>2</th>\n",
       "      <td>RP3</td>\n",
       "      <td>[leben, immer, noafd, politik, fan, privat, me...</td>\n",
       "      <td>[lauterbach, karl, jensspahn, tagesschau, welt...</td>\n",
       "    </tr>\n",
       "    <tr>\n",
       "      <th>3</th>\n",
       "      <td>RP4</td>\n",
       "      <td>[politik, wien, privat, tweets, journalist, le...</td>\n",
       "      <td>[anschober, rudi, sebastiankurz, pfizer, isabe...</td>\n",
       "    </tr>\n",
       "    <tr>\n",
       "      <th>4</th>\n",
       "      <td>RP5</td>\n",
       "      <td>[leben, immer, privat, politik, fan, noafd, tw...</td>\n",
       "      <td>[lauterbach, karl, impfpflicht, jensspahn, vir...</td>\n",
       "    </tr>\n",
       "    <tr>\n",
       "      <th>5</th>\n",
       "      <td>RP6</td>\n",
       "      <td>[politik, wien, privat, tweets, journalist, le...</td>\n",
       "      <td>[astrazeneca, anschober, rudi, sebastiankurz, ...</td>\n",
       "    </tr>\n",
       "    <tr>\n",
       "      <th>6</th>\n",
       "      <td>RP7</td>\n",
       "      <td>[politik, ch, schweiz, journalist, swiss, lebe...</td>\n",
       "      <td>[impfen, impfstoff, impfung, bag, ofsp, ufsp, ...</td>\n",
       "    </tr>\n",
       "  </tbody>\n",
       "</table>\n",
       "</div>"
      ],
      "text/plain": [
       "   ids                                           profiles  \\\n",
       "0  RP1  [leben, noafd, politik, immer, privat, mehr, f...   \n",
       "1  RP2  [politik, tweets, journalist, account, privat,...   \n",
       "2  RP3  [leben, immer, noafd, politik, fan, privat, me...   \n",
       "3  RP4  [politik, wien, privat, tweets, journalist, le...   \n",
       "4  RP5  [leben, immer, privat, politik, fan, noafd, tw...   \n",
       "5  RP6  [politik, wien, privat, tweets, journalist, le...   \n",
       "6  RP7  [politik, ch, schweiz, journalist, swiss, lebe...   \n",
       "\n",
       "                                     important_words  \n",
       "0  [jensspahn, nataliegrams, impfungen, tagesscha...  \n",
       "1  [trump, influenza, franz, halt, strobl, natasc...  \n",
       "2  [lauterbach, karl, jensspahn, tagesschau, welt...  \n",
       "3  [anschober, rudi, sebastiankurz, pfizer, isabe...  \n",
       "4  [lauterbach, karl, impfpflicht, jensspahn, vir...  \n",
       "5  [astrazeneca, anschober, rudi, sebastiankurz, ...  \n",
       "6  [impfen, impfstoff, impfung, bag, ofsp, ufsp, ...  "
      ]
     },
     "execution_count": 19,
     "metadata": {},
     "output_type": "execute_result"
    }
   ],
   "source": [
    "content_analysis_rp"
   ]
  }
 ],
 "metadata": {
  "interpreter": {
   "hash": "af17b79a06a22b635a8b8a55f36d039b10705be3554a101ed8e349def8e23d1a"
  },
  "kernelspec": {
   "display_name": "Python 3.8.5 64-bit ('base': conda)",
   "name": "python3"
  },
  "language_info": {
   "codemirror_mode": {
    "name": "ipython",
    "version": 3
   },
   "file_extension": ".py",
   "mimetype": "text/x-python",
   "name": "python",
   "nbconvert_exporter": "python",
   "pygments_lexer": "ipython3",
   "version": "3.8.5"
  }
 },
 "nbformat": 4,
 "nbformat_minor": 4
}
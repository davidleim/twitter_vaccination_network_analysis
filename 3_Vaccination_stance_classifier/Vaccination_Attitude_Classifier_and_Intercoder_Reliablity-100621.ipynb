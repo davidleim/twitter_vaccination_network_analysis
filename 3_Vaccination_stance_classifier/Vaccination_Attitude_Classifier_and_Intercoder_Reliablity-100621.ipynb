{
  "cells": [
    {
      "cell_type": "code",
      "execution_count": 1,
      "metadata": {
        "collapsed": false
      },
      "outputs": [],
      "source": [
        "%matplotlib inline\n",
        "\n",
        "import pandas as pd\n",
        "from sklearn.model_selection import cross_validate\n",
        "from sklearn.dummy import DummyClassifier\n",
        "from sklearn.pipeline import make_pipeline\n",
        "from sklearn.feature_extraction.text import TfidfVectorizer\n",
        "from sklearn.linear_model import LogisticRegression\n",
        "from joblib import dump, load\n",
        "from sklearn.model_selection import GridSearchCV, train_test_split\n",
        "from sklearn.pipeline import Pipeline\n",
        "from sklearn.naive_bayes import MultinomialNB, ComplementNB\n",
        "from sklearn.feature_extraction.text import CountVectorizer\n",
        "from sklearn.metrics import cohen_kappa_score\n",
        "from sklearn.metrics import confusion_matrix\n",
        "from sklearn.metrics import f1_score\n",
        "from imblearn.pipeline import Pipeline \n",
        "from imblearn.pipeline import make_pipeline as make_pipeline_with_sampler\n",
        "from imblearn.under_sampling import RandomUnderSampler\n",
        "from sklearn.ensemble import RandomForestClassifier\n",
        "from imblearn.combine import SMOTEENN\n",
        "from sklearn.neighbors import KNeighborsClassifier\n",
        "import operator\n",
        "import logging\n",
        "from sklearn.svm import SVC\n",
        "from imblearn.over_sampling import RandomOverSampler \n",
        "from imblearn.over_sampling import SVMSMOTE\n",
        "import statsmodels\n",
        "from statsmodels.stats.inter_rater import cohens_kappa, to_table\n",
        "from sklearn.linear_model import SGDClassifier\n",
        "from imblearn.over_sampling import SMOTE\n",
        "from imblearn.combine import SMOTETomek \n",
        "from sklearn import metrics\n",
        "from pprint import pprint\n",
        "from time import time\n",
        "import re\n",
        "import numpy as np\n",
        "import logging\n",
        "from sklearn.compose import make_column_transformer\n",
        "from sklearn.compose import make_column_selector as selector\n",
        "\n",
        "# Parts of the code adopted from Guillaume Lemaitre (https://imbalanced-learn.org/stable/auto_examples/applications/plot_impact_imbalanced_classes.html)"
      ]
    },
    {
      "cell_type": "code",
      "execution_count": 2,
      "metadata": {},
      "outputs": [],
      "source": [
        "# Tweet text preprocessor\n",
        "\n",
        "def tweet_preprocessing(x):\n",
        "    # Remove all the special characters\n",
        "    text = re.sub(r'\\W', ' ', str(x))\n",
        "    # remove all single characters\n",
        "    text = re.sub(r'\\s+[a-zA-Z]\\s+', ' ', text)\n",
        "    # Substituting multiple spaces with single space\n",
        "    text= re.sub(r'\\s+', ' ', text, flags=re.I)\n",
        "    text = text.lower()\n",
        "    text = ' '.join(re.sub(\"(@[a-zA-ZäöüÄÖÜß0-9]+)|([^0-9a-zA-ZäöüÄÖÜß \\t])|(\\w+:\\/\\/\\S+)\",\" \",text).split())\n",
        "    return(text)"
      ]
    },
    {
      "cell_type": "code",
      "execution_count": 3,
      "metadata": {
        "collapsed": false
      },
      "outputs": [],
      "source": [
        "# Stopword list including negative words\n",
        "\n",
        "from nltk.corpus import stopwords\n",
        "german_stop_words = stopwords.words('german')\n",
        "for negation in ['nicht','nichts','gegen','für','keine', 'kein','keine','keinem','keinen', 'keiner','keines']:\n",
        "    if negation in german_stop_words:\n",
        "        german_stop_words.remove(negation)"
      ]
    },
    {
      "cell_type": "code",
      "execution_count": 4,
      "metadata": {
        "collapsed": false
      },
      "outputs": [],
      "source": [
        "# Load coded data\n",
        "\n",
        "df = pd.read_csv(\"/Users/D/Google Drive/UVA Arbeitsmaterial/2020:2021/Thesis/Thesis code/Vaccine Atttitude Classifier/Data/German Covid-19 Vaccination coding - coding_tweets_190521_chunk1.csv\")\n",
        "df = df[df['vaccine_stance'].notna()]\n",
        "df.text = df.text.apply(lambda x: tweet_preprocessing(x))"
      ]
    },
    {
      "cell_type": "code",
      "execution_count": 5,
      "metadata": {},
      "outputs": [],
      "source": [
        "# Given the low performance of prior tests including 3 classes, the classification task is changed to anti-vaccination view vs. the rest\n",
        "df = df.replace({'vaccine_stance': {2: 1}})"
      ]
    },
    {
      "cell_type": "code",
      "execution_count": 6,
      "metadata": {},
      "outputs": [
        {
          "output_type": "display_data",
          "data": {
            "text/plain": "<Figure size 576x432 with 1 Axes>",
            "image/svg+xml": "<?xml version=\"1.0\" encoding=\"utf-8\" standalone=\"no\"?>\n<!DOCTYPE svg PUBLIC \"-//W3C//DTD SVG 1.1//EN\"\n  \"http://www.w3.org/Graphics/SVG/1.1/DTD/svg11.dtd\">\n<!-- Created with matplotlib (https://matplotlib.org/) -->\n<svg height=\"377.419375pt\" version=\"1.1\" viewBox=\"0 0 493.25 377.419375\" width=\"493.25pt\" xmlns=\"http://www.w3.org/2000/svg\" xmlns:xlink=\"http://www.w3.org/1999/xlink\">\n <metadata>\n  <rdf:RDF xmlns:cc=\"http://creativecommons.org/ns#\" xmlns:dc=\"http://purl.org/dc/elements/1.1/\" xmlns:rdf=\"http://www.w3.org/1999/02/22-rdf-syntax-ns#\">\n   <cc:Work>\n    <dc:type rdf:resource=\"http://purl.org/dc/dcmitype/StillImage\"/>\n    <dc:date>2021-06-13T10:22:11.037916</dc:date>\n    <dc:format>image/svg+xml</dc:format>\n    <dc:creator>\n     <cc:Agent>\n      <dc:title>Matplotlib v3.3.2, https://matplotlib.org/</dc:title>\n     </cc:Agent>\n    </dc:creator>\n   </cc:Work>\n  </rdf:RDF>\n </metadata>\n <defs>\n  <style type=\"text/css\">*{stroke-linecap:butt;stroke-linejoin:round;}</style>\n </defs>\n <g id=\"figure_1\">\n  <g id=\"patch_1\">\n   <path d=\"M 0 377.419375 \nL 493.25 377.419375 \nL 493.25 0 \nL 0 0 \nz\n\" style=\"fill:none;\"/>\n  </g>\n  <g id=\"axes_1\">\n   <g id=\"patch_2\">\n    <path d=\"M 39.65 333.36 \nL 486.05 333.36 \nL 486.05 7.2 \nL 39.65 7.2 \nz\n\" style=\"fill:#ffffff;\"/>\n   </g>\n   <g id=\"patch_3\">\n    <path clip-path=\"url(#p4a7e14fcc2)\" d=\"M 95.45 333.36 \nL 207.05 333.36 \nL 207.05 22.731429 \nL 95.45 22.731429 \nz\n\" style=\"fill:#1f77b4;\"/>\n   </g>\n   <g id=\"patch_4\">\n    <path clip-path=\"url(#p4a7e14fcc2)\" d=\"M 318.65 333.36 \nL 430.25 333.36 \nL 430.25 275.097917 \nL 318.65 275.097917 \nz\n\" style=\"fill:#1f77b4;\"/>\n   </g>\n   <g id=\"matplotlib.axis_1\">\n    <g id=\"xtick_1\">\n     <g id=\"line2d_1\">\n      <defs>\n       <path d=\"M 0 0 \nL 0 3.5 \n\" id=\"mf8193176ce\" style=\"stroke:#000000;stroke-width:0.8;\"/>\n      </defs>\n      <g>\n       <use style=\"stroke:#000000;stroke-width:0.8;\" x=\"151.25\" xlink:href=\"#mf8193176ce\" y=\"333.36\"/>\n      </g>\n     </g>\n     <g id=\"text_1\">\n      <!-- 1.0 -->\n      <g transform=\"translate(154.009375 356.263125)rotate(-90)scale(0.1 -0.1)\">\n       <defs>\n        <path d=\"M 12.40625 8.296875 \nL 28.515625 8.296875 \nL 28.515625 63.921875 \nL 10.984375 60.40625 \nL 10.984375 69.390625 \nL 28.421875 72.90625 \nL 38.28125 72.90625 \nL 38.28125 8.296875 \nL 54.390625 8.296875 \nL 54.390625 0 \nL 12.40625 0 \nz\n\" id=\"DejaVuSans-49\"/>\n        <path d=\"M 10.6875 12.40625 \nL 21 12.40625 \nL 21 0 \nL 10.6875 0 \nz\n\" id=\"DejaVuSans-46\"/>\n        <path d=\"M 31.78125 66.40625 \nQ 24.171875 66.40625 20.328125 58.90625 \nQ 16.5 51.421875 16.5 36.375 \nQ 16.5 21.390625 20.328125 13.890625 \nQ 24.171875 6.390625 31.78125 6.390625 \nQ 39.453125 6.390625 43.28125 13.890625 \nQ 47.125 21.390625 47.125 36.375 \nQ 47.125 51.421875 43.28125 58.90625 \nQ 39.453125 66.40625 31.78125 66.40625 \nz\nM 31.78125 74.21875 \nQ 44.046875 74.21875 50.515625 64.515625 \nQ 56.984375 54.828125 56.984375 36.375 \nQ 56.984375 17.96875 50.515625 8.265625 \nQ 44.046875 -1.421875 31.78125 -1.421875 \nQ 19.53125 -1.421875 13.0625 8.265625 \nQ 6.59375 17.96875 6.59375 36.375 \nQ 6.59375 54.828125 13.0625 64.515625 \nQ 19.53125 74.21875 31.78125 74.21875 \nz\n\" id=\"DejaVuSans-48\"/>\n       </defs>\n       <use xlink:href=\"#DejaVuSans-49\"/>\n       <use x=\"63.623047\" xlink:href=\"#DejaVuSans-46\"/>\n       <use x=\"95.410156\" xlink:href=\"#DejaVuSans-48\"/>\n      </g>\n     </g>\n    </g>\n    <g id=\"xtick_2\">\n     <g id=\"line2d_2\">\n      <g>\n       <use style=\"stroke:#000000;stroke-width:0.8;\" x=\"374.45\" xlink:href=\"#mf8193176ce\" y=\"333.36\"/>\n      </g>\n     </g>\n     <g id=\"text_2\">\n      <!-- 3.0 -->\n      <g transform=\"translate(377.209375 356.263125)rotate(-90)scale(0.1 -0.1)\">\n       <defs>\n        <path d=\"M 40.578125 39.3125 \nQ 47.65625 37.796875 51.625 33 \nQ 55.609375 28.21875 55.609375 21.1875 \nQ 55.609375 10.40625 48.1875 4.484375 \nQ 40.765625 -1.421875 27.09375 -1.421875 \nQ 22.515625 -1.421875 17.65625 -0.515625 \nQ 12.796875 0.390625 7.625 2.203125 \nL 7.625 11.71875 \nQ 11.71875 9.328125 16.59375 8.109375 \nQ 21.484375 6.890625 26.8125 6.890625 \nQ 36.078125 6.890625 40.9375 10.546875 \nQ 45.796875 14.203125 45.796875 21.1875 \nQ 45.796875 27.640625 41.28125 31.265625 \nQ 36.765625 34.90625 28.71875 34.90625 \nL 20.21875 34.90625 \nL 20.21875 43.015625 \nL 29.109375 43.015625 \nQ 36.375 43.015625 40.234375 45.921875 \nQ 44.09375 48.828125 44.09375 54.296875 \nQ 44.09375 59.90625 40.109375 62.90625 \nQ 36.140625 65.921875 28.71875 65.921875 \nQ 24.65625 65.921875 20.015625 65.03125 \nQ 15.375 64.15625 9.8125 62.3125 \nL 9.8125 71.09375 \nQ 15.4375 72.65625 20.34375 73.4375 \nQ 25.25 74.21875 29.59375 74.21875 \nQ 40.828125 74.21875 47.359375 69.109375 \nQ 53.90625 64.015625 53.90625 55.328125 \nQ 53.90625 49.265625 50.4375 45.09375 \nQ 46.96875 40.921875 40.578125 39.3125 \nz\n\" id=\"DejaVuSans-51\"/>\n       </defs>\n       <use xlink:href=\"#DejaVuSans-51\"/>\n       <use x=\"63.623047\" xlink:href=\"#DejaVuSans-46\"/>\n       <use x=\"95.410156\" xlink:href=\"#DejaVuSans-48\"/>\n      </g>\n     </g>\n    </g>\n    <g id=\"text_3\">\n     <!-- vaccine_stance -->\n     <g transform=\"translate(224.570313 367.861562)scale(0.1 -0.1)\">\n      <defs>\n       <path d=\"M 2.984375 54.6875 \nL 12.5 54.6875 \nL 29.59375 8.796875 \nL 46.6875 54.6875 \nL 56.203125 54.6875 \nL 35.6875 0 \nL 23.484375 0 \nz\n\" id=\"DejaVuSans-118\"/>\n       <path d=\"M 34.28125 27.484375 \nQ 23.390625 27.484375 19.1875 25 \nQ 14.984375 22.515625 14.984375 16.5 \nQ 14.984375 11.71875 18.140625 8.90625 \nQ 21.296875 6.109375 26.703125 6.109375 \nQ 34.1875 6.109375 38.703125 11.40625 \nQ 43.21875 16.703125 43.21875 25.484375 \nL 43.21875 27.484375 \nz\nM 52.203125 31.203125 \nL 52.203125 0 \nL 43.21875 0 \nL 43.21875 8.296875 \nQ 40.140625 3.328125 35.546875 0.953125 \nQ 30.953125 -1.421875 24.3125 -1.421875 \nQ 15.921875 -1.421875 10.953125 3.296875 \nQ 6 8.015625 6 15.921875 \nQ 6 25.140625 12.171875 29.828125 \nQ 18.359375 34.515625 30.609375 34.515625 \nL 43.21875 34.515625 \nL 43.21875 35.40625 \nQ 43.21875 41.609375 39.140625 45 \nQ 35.0625 48.390625 27.6875 48.390625 \nQ 23 48.390625 18.546875 47.265625 \nQ 14.109375 46.140625 10.015625 43.890625 \nL 10.015625 52.203125 \nQ 14.9375 54.109375 19.578125 55.046875 \nQ 24.21875 56 28.609375 56 \nQ 40.484375 56 46.34375 49.84375 \nQ 52.203125 43.703125 52.203125 31.203125 \nz\n\" id=\"DejaVuSans-97\"/>\n       <path d=\"M 48.78125 52.59375 \nL 48.78125 44.1875 \nQ 44.96875 46.296875 41.140625 47.34375 \nQ 37.3125 48.390625 33.40625 48.390625 \nQ 24.65625 48.390625 19.8125 42.84375 \nQ 14.984375 37.3125 14.984375 27.296875 \nQ 14.984375 17.28125 19.8125 11.734375 \nQ 24.65625 6.203125 33.40625 6.203125 \nQ 37.3125 6.203125 41.140625 7.25 \nQ 44.96875 8.296875 48.78125 10.40625 \nL 48.78125 2.09375 \nQ 45.015625 0.34375 40.984375 -0.53125 \nQ 36.96875 -1.421875 32.421875 -1.421875 \nQ 20.0625 -1.421875 12.78125 6.34375 \nQ 5.515625 14.109375 5.515625 27.296875 \nQ 5.515625 40.671875 12.859375 48.328125 \nQ 20.21875 56 33.015625 56 \nQ 37.15625 56 41.109375 55.140625 \nQ 45.0625 54.296875 48.78125 52.59375 \nz\n\" id=\"DejaVuSans-99\"/>\n       <path d=\"M 9.421875 54.6875 \nL 18.40625 54.6875 \nL 18.40625 0 \nL 9.421875 0 \nz\nM 9.421875 75.984375 \nL 18.40625 75.984375 \nL 18.40625 64.59375 \nL 9.421875 64.59375 \nz\n\" id=\"DejaVuSans-105\"/>\n       <path d=\"M 54.890625 33.015625 \nL 54.890625 0 \nL 45.90625 0 \nL 45.90625 32.71875 \nQ 45.90625 40.484375 42.875 44.328125 \nQ 39.84375 48.1875 33.796875 48.1875 \nQ 26.515625 48.1875 22.3125 43.546875 \nQ 18.109375 38.921875 18.109375 30.90625 \nL 18.109375 0 \nL 9.078125 0 \nL 9.078125 54.6875 \nL 18.109375 54.6875 \nL 18.109375 46.1875 \nQ 21.34375 51.125 25.703125 53.5625 \nQ 30.078125 56 35.796875 56 \nQ 45.21875 56 50.046875 50.171875 \nQ 54.890625 44.34375 54.890625 33.015625 \nz\n\" id=\"DejaVuSans-110\"/>\n       <path d=\"M 56.203125 29.59375 \nL 56.203125 25.203125 \nL 14.890625 25.203125 \nQ 15.484375 15.921875 20.484375 11.0625 \nQ 25.484375 6.203125 34.421875 6.203125 \nQ 39.59375 6.203125 44.453125 7.46875 \nQ 49.3125 8.734375 54.109375 11.28125 \nL 54.109375 2.78125 \nQ 49.265625 0.734375 44.1875 -0.34375 \nQ 39.109375 -1.421875 33.890625 -1.421875 \nQ 20.796875 -1.421875 13.15625 6.1875 \nQ 5.515625 13.8125 5.515625 26.8125 \nQ 5.515625 40.234375 12.765625 48.109375 \nQ 20.015625 56 32.328125 56 \nQ 43.359375 56 49.78125 48.890625 \nQ 56.203125 41.796875 56.203125 29.59375 \nz\nM 47.21875 32.234375 \nQ 47.125 39.59375 43.09375 43.984375 \nQ 39.0625 48.390625 32.421875 48.390625 \nQ 24.90625 48.390625 20.390625 44.140625 \nQ 15.875 39.890625 15.1875 32.171875 \nz\n\" id=\"DejaVuSans-101\"/>\n       <path d=\"M 50.984375 -16.609375 \nL 50.984375 -23.578125 \nL -0.984375 -23.578125 \nL -0.984375 -16.609375 \nz\n\" id=\"DejaVuSans-95\"/>\n       <path d=\"M 44.28125 53.078125 \nL 44.28125 44.578125 \nQ 40.484375 46.53125 36.375 47.5 \nQ 32.28125 48.484375 27.875 48.484375 \nQ 21.1875 48.484375 17.84375 46.4375 \nQ 14.5 44.390625 14.5 40.28125 \nQ 14.5 37.15625 16.890625 35.375 \nQ 19.28125 33.59375 26.515625 31.984375 \nL 29.59375 31.296875 \nQ 39.15625 29.25 43.1875 25.515625 \nQ 47.21875 21.78125 47.21875 15.09375 \nQ 47.21875 7.46875 41.1875 3.015625 \nQ 35.15625 -1.421875 24.609375 -1.421875 \nQ 20.21875 -1.421875 15.453125 -0.5625 \nQ 10.6875 0.296875 5.421875 2 \nL 5.421875 11.28125 \nQ 10.40625 8.6875 15.234375 7.390625 \nQ 20.0625 6.109375 24.8125 6.109375 \nQ 31.15625 6.109375 34.5625 8.28125 \nQ 37.984375 10.453125 37.984375 14.40625 \nQ 37.984375 18.0625 35.515625 20.015625 \nQ 33.0625 21.96875 24.703125 23.78125 \nL 21.578125 24.515625 \nQ 13.234375 26.265625 9.515625 29.90625 \nQ 5.8125 33.546875 5.8125 39.890625 \nQ 5.8125 47.609375 11.28125 51.796875 \nQ 16.75 56 26.8125 56 \nQ 31.78125 56 36.171875 55.265625 \nQ 40.578125 54.546875 44.28125 53.078125 \nz\n\" id=\"DejaVuSans-115\"/>\n       <path d=\"M 18.3125 70.21875 \nL 18.3125 54.6875 \nL 36.8125 54.6875 \nL 36.8125 47.703125 \nL 18.3125 47.703125 \nL 18.3125 18.015625 \nQ 18.3125 11.328125 20.140625 9.421875 \nQ 21.96875 7.515625 27.59375 7.515625 \nL 36.8125 7.515625 \nL 36.8125 0 \nL 27.59375 0 \nQ 17.1875 0 13.234375 3.875 \nQ 9.28125 7.765625 9.28125 18.015625 \nL 9.28125 47.703125 \nL 2.6875 47.703125 \nL 2.6875 54.6875 \nL 9.28125 54.6875 \nL 9.28125 70.21875 \nz\n\" id=\"DejaVuSans-116\"/>\n      </defs>\n      <use xlink:href=\"#DejaVuSans-118\"/>\n      <use x=\"59.179688\" xlink:href=\"#DejaVuSans-97\"/>\n      <use x=\"120.458984\" xlink:href=\"#DejaVuSans-99\"/>\n      <use x=\"175.439453\" xlink:href=\"#DejaVuSans-99\"/>\n      <use x=\"230.419922\" xlink:href=\"#DejaVuSans-105\"/>\n      <use x=\"258.203125\" xlink:href=\"#DejaVuSans-110\"/>\n      <use x=\"321.582031\" xlink:href=\"#DejaVuSans-101\"/>\n      <use x=\"383.105469\" xlink:href=\"#DejaVuSans-95\"/>\n      <use x=\"433.105469\" xlink:href=\"#DejaVuSans-115\"/>\n      <use x=\"485.205078\" xlink:href=\"#DejaVuSans-116\"/>\n      <use x=\"524.414062\" xlink:href=\"#DejaVuSans-97\"/>\n      <use x=\"585.693359\" xlink:href=\"#DejaVuSans-110\"/>\n      <use x=\"649.072266\" xlink:href=\"#DejaVuSans-99\"/>\n      <use x=\"704.052734\" xlink:href=\"#DejaVuSans-101\"/>\n     </g>\n    </g>\n   </g>\n   <g id=\"matplotlib.axis_2\">\n    <g id=\"ytick_1\">\n     <g id=\"line2d_3\">\n      <defs>\n       <path d=\"M 0 0 \nL -3.5 0 \n\" id=\"mf32def414f\" style=\"stroke:#000000;stroke-width:0.8;\"/>\n      </defs>\n      <g>\n       <use style=\"stroke:#000000;stroke-width:0.8;\" x=\"39.65\" xlink:href=\"#mf32def414f\" y=\"333.36\"/>\n      </g>\n     </g>\n     <g id=\"text_4\">\n      <!-- 0 -->\n      <g transform=\"translate(26.2875 337.159219)scale(0.1 -0.1)\">\n       <use xlink:href=\"#DejaVuSans-48\"/>\n      </g>\n     </g>\n    </g>\n    <g id=\"ytick_2\">\n     <g id=\"line2d_4\">\n      <g>\n       <use style=\"stroke:#000000;stroke-width:0.8;\" x=\"39.65\" xlink:href=\"#mf32def414f\" y=\"271.837209\"/>\n      </g>\n     </g>\n     <g id=\"text_5\">\n      <!-- 1000 -->\n      <g transform=\"translate(7.2 275.636428)scale(0.1 -0.1)\">\n       <use xlink:href=\"#DejaVuSans-49\"/>\n       <use x=\"63.623047\" xlink:href=\"#DejaVuSans-48\"/>\n       <use x=\"127.246094\" xlink:href=\"#DejaVuSans-48\"/>\n       <use x=\"190.869141\" xlink:href=\"#DejaVuSans-48\"/>\n      </g>\n     </g>\n    </g>\n    <g id=\"ytick_3\">\n     <g id=\"line2d_5\">\n      <g>\n       <use style=\"stroke:#000000;stroke-width:0.8;\" x=\"39.65\" xlink:href=\"#mf32def414f\" y=\"210.314418\"/>\n      </g>\n     </g>\n     <g id=\"text_6\">\n      <!-- 2000 -->\n      <g transform=\"translate(7.2 214.113637)scale(0.1 -0.1)\">\n       <defs>\n        <path d=\"M 19.1875 8.296875 \nL 53.609375 8.296875 \nL 53.609375 0 \nL 7.328125 0 \nL 7.328125 8.296875 \nQ 12.9375 14.109375 22.625 23.890625 \nQ 32.328125 33.6875 34.8125 36.53125 \nQ 39.546875 41.84375 41.421875 45.53125 \nQ 43.3125 49.21875 43.3125 52.78125 \nQ 43.3125 58.59375 39.234375 62.25 \nQ 35.15625 65.921875 28.609375 65.921875 \nQ 23.96875 65.921875 18.8125 64.3125 \nQ 13.671875 62.703125 7.8125 59.421875 \nL 7.8125 69.390625 \nQ 13.765625 71.78125 18.9375 73 \nQ 24.125 74.21875 28.421875 74.21875 \nQ 39.75 74.21875 46.484375 68.546875 \nQ 53.21875 62.890625 53.21875 53.421875 \nQ 53.21875 48.921875 51.53125 44.890625 \nQ 49.859375 40.875 45.40625 35.40625 \nQ 44.1875 33.984375 37.640625 27.21875 \nQ 31.109375 20.453125 19.1875 8.296875 \nz\n\" id=\"DejaVuSans-50\"/>\n       </defs>\n       <use xlink:href=\"#DejaVuSans-50\"/>\n       <use x=\"63.623047\" xlink:href=\"#DejaVuSans-48\"/>\n       <use x=\"127.246094\" xlink:href=\"#DejaVuSans-48\"/>\n       <use x=\"190.869141\" xlink:href=\"#DejaVuSans-48\"/>\n      </g>\n     </g>\n    </g>\n    <g id=\"ytick_4\">\n     <g id=\"line2d_6\">\n      <g>\n       <use style=\"stroke:#000000;stroke-width:0.8;\" x=\"39.65\" xlink:href=\"#mf32def414f\" y=\"148.791627\"/>\n      </g>\n     </g>\n     <g id=\"text_7\">\n      <!-- 3000 -->\n      <g transform=\"translate(7.2 152.590846)scale(0.1 -0.1)\">\n       <use xlink:href=\"#DejaVuSans-51\"/>\n       <use x=\"63.623047\" xlink:href=\"#DejaVuSans-48\"/>\n       <use x=\"127.246094\" xlink:href=\"#DejaVuSans-48\"/>\n       <use x=\"190.869141\" xlink:href=\"#DejaVuSans-48\"/>\n      </g>\n     </g>\n    </g>\n    <g id=\"ytick_5\">\n     <g id=\"line2d_7\">\n      <g>\n       <use style=\"stroke:#000000;stroke-width:0.8;\" x=\"39.65\" xlink:href=\"#mf32def414f\" y=\"87.268836\"/>\n      </g>\n     </g>\n     <g id=\"text_8\">\n      <!-- 4000 -->\n      <g transform=\"translate(7.2 91.068055)scale(0.1 -0.1)\">\n       <defs>\n        <path d=\"M 37.796875 64.3125 \nL 12.890625 25.390625 \nL 37.796875 25.390625 \nz\nM 35.203125 72.90625 \nL 47.609375 72.90625 \nL 47.609375 25.390625 \nL 58.015625 25.390625 \nL 58.015625 17.1875 \nL 47.609375 17.1875 \nL 47.609375 0 \nL 37.796875 0 \nL 37.796875 17.1875 \nL 4.890625 17.1875 \nL 4.890625 26.703125 \nz\n\" id=\"DejaVuSans-52\"/>\n       </defs>\n       <use xlink:href=\"#DejaVuSans-52\"/>\n       <use x=\"63.623047\" xlink:href=\"#DejaVuSans-48\"/>\n       <use x=\"127.246094\" xlink:href=\"#DejaVuSans-48\"/>\n       <use x=\"190.869141\" xlink:href=\"#DejaVuSans-48\"/>\n      </g>\n     </g>\n    </g>\n    <g id=\"ytick_6\">\n     <g id=\"line2d_8\">\n      <g>\n       <use style=\"stroke:#000000;stroke-width:0.8;\" x=\"39.65\" xlink:href=\"#mf32def414f\" y=\"25.746045\"/>\n      </g>\n     </g>\n     <g id=\"text_9\">\n      <!-- 5000 -->\n      <g transform=\"translate(7.2 29.545264)scale(0.1 -0.1)\">\n       <defs>\n        <path d=\"M 10.796875 72.90625 \nL 49.515625 72.90625 \nL 49.515625 64.59375 \nL 19.828125 64.59375 \nL 19.828125 46.734375 \nQ 21.96875 47.46875 24.109375 47.828125 \nQ 26.265625 48.1875 28.421875 48.1875 \nQ 40.625 48.1875 47.75 41.5 \nQ 54.890625 34.8125 54.890625 23.390625 \nQ 54.890625 11.625 47.5625 5.09375 \nQ 40.234375 -1.421875 26.90625 -1.421875 \nQ 22.3125 -1.421875 17.546875 -0.640625 \nQ 12.796875 0.140625 7.71875 1.703125 \nL 7.71875 11.625 \nQ 12.109375 9.234375 16.796875 8.0625 \nQ 21.484375 6.890625 26.703125 6.890625 \nQ 35.15625 6.890625 40.078125 11.328125 \nQ 45.015625 15.765625 45.015625 23.390625 \nQ 45.015625 31 40.078125 35.4375 \nQ 35.15625 39.890625 26.703125 39.890625 \nQ 22.75 39.890625 18.8125 39.015625 \nQ 14.890625 38.140625 10.796875 36.28125 \nz\n\" id=\"DejaVuSans-53\"/>\n       </defs>\n       <use xlink:href=\"#DejaVuSans-53\"/>\n       <use x=\"63.623047\" xlink:href=\"#DejaVuSans-48\"/>\n       <use x=\"127.246094\" xlink:href=\"#DejaVuSans-48\"/>\n       <use x=\"190.869141\" xlink:href=\"#DejaVuSans-48\"/>\n      </g>\n     </g>\n    </g>\n   </g>\n   <g id=\"patch_5\">\n    <path d=\"M 39.65 333.36 \nL 39.65 7.2 \n\" style=\"fill:none;stroke:#000000;stroke-linecap:square;stroke-linejoin:miter;stroke-width:0.8;\"/>\n   </g>\n   <g id=\"patch_6\">\n    <path d=\"M 486.05 333.36 \nL 486.05 7.2 \n\" style=\"fill:none;stroke:#000000;stroke-linecap:square;stroke-linejoin:miter;stroke-width:0.8;\"/>\n   </g>\n   <g id=\"patch_7\">\n    <path d=\"M 39.65 333.36 \nL 486.05 333.36 \n\" style=\"fill:none;stroke:#000000;stroke-linecap:square;stroke-linejoin:miter;stroke-width:0.8;\"/>\n   </g>\n   <g id=\"patch_8\">\n    <path d=\"M 39.65 7.2 \nL 486.05 7.2 \n\" style=\"fill:none;stroke:#000000;stroke-linecap:square;stroke-linejoin:miter;stroke-width:0.8;\"/>\n   </g>\n  </g>\n </g>\n <defs>\n  <clipPath id=\"p4a7e14fcc2\">\n   <rect height=\"326.16\" width=\"446.4\" x=\"39.65\" y=\"7.2\"/>\n  </clipPath>\n </defs>\n</svg>\n",
            "image/png": "[encoded data removed]"
          },
          "metadata": {
            "needs_background": "light"
          }
        }
      ],
      "source": [
        "# Plot distribution (1 = Pro or Neutral, 3 = Anti)\n",
        "import matplotlib.pyplot as plt\n",
        "fig = plt.figure(figsize=(8,6))\n",
        "df.groupby('vaccine_stance').text.count().plot.bar(ylim=0)\n",
        "plt.show()"
      ]
    },
    {
      "cell_type": "code",
      "execution_count": 7,
      "metadata": {},
      "outputs": [
        {
          "output_type": "execute_result",
          "data": {
            "text/plain": [
              "15.793862575050028"
            ]
          },
          "metadata": {},
          "execution_count": 7
        }
      ],
      "source": [
        "#Percentage of anti-vaccination tweets\n",
        "100-df.groupby('vaccine_stance').vaccine_stance.value_counts()[1][1]/len(df)*100"
      ]
    },
    {
      "cell_type": "code",
      "execution_count": 8,
      "metadata": {},
      "outputs": [
        {
          "output_type": "stream",
          "name": "stdout",
          "text": [
            "                  Simple Kappa Coefficient\n              --------------------------------\n              Kappa                     0.8235\n              ASE                       0.0384\n              95% Lower Conf Limit      0.7482\n              95% Upper Conf Limit      0.8988\n\n                 Test of H0: Simple Kappa = 0\n\n              ASE under H0              0.0533\n              Z                         15.4392\n              One-sided Pr >  Z         0.0000\n              Two-sided Pr > |Z|        0.0000\n\n"
          ]
        }
      ],
      "source": [
        "# Calculate intercoder reliability\n",
        "\n",
        "coder1 = list(pd.read_csv('/Users/D/Google Drive/UVA Arbeitsmaterial/2020:2021/Thesis/Thesis code/Vaccine Atttitude Classifier/Data/coder1.csv')['vaccine_stance'])\n",
        "\n",
        "coder2 = list(pd.read_csv('/Users/D/Google Drive/UVA Arbeitsmaterial/2020:2021/Thesis/Thesis code/Vaccine Atttitude Classifier/Data/coder2.csv')['vaccine_stance'])\n",
        "\n",
        "print(statsmodels.stats.inter_rater.cohens_kappa(confusion_matrix(coder1,coder2)))"
      ]
    },
    {
      "cell_type": "code",
      "execution_count": 9,
      "metadata": {},
      "outputs": [
        {
          "output_type": "execute_result",
          "data": {
            "text/plain": [
              "                       id                                               text  \\\n",
              "0     1356642151397019653  und warum wurde in 30 jahren noch kein impfsto...   \n",
              "1     1364723771567988740  joelthuering parmeling schon dubios ein basler...   \n",
              "2     1324727450660671488  ndrmv warum bereitet mv nicht endlich präventi...   \n",
              "3     1355051921590071297  corona nachrichten weltweit von der leyen ford...   \n",
              "4     1365935602072510469  flugschulee so ist das mit den leerdenkern mit...   \n",
              "...                   ...                                                ...   \n",
              "5998  1344543545848434690  rt bmauschen irgendwie scheint mir in den letz...   \n",
              "5999  1363273959089782786  rt bzbear2 hschaeferiw ich habe heute beim spa...   \n",
              "6000  1307238519987933193  https co wgcsqf0l75 zeitonline hat eine headli...   \n",
              "6001  1257380391595446284  scheibenkleister die erste serie auf netflix o...   \n",
              "6002  1348955224262770690  1 hieß es nicht es kommt keine impfpflicht die...   \n",
              "\n",
              "      vaccine_stance  \n",
              "0                3.0  \n",
              "1                3.0  \n",
              "2                1.0  \n",
              "3                1.0  \n",
              "4                1.0  \n",
              "...              ...  \n",
              "5998             1.0  \n",
              "5999             1.0  \n",
              "6000             1.0  \n",
              "6001             1.0  \n",
              "6002             1.0  \n",
              "\n",
              "[5996 rows x 3 columns]"
            ],
            "text/html": "<div>\n<style scoped>\n    .dataframe tbody tr th:only-of-type {\n        vertical-align: middle;\n    }\n\n    .dataframe tbody tr th {\n        vertical-align: top;\n    }\n\n    .dataframe thead th {\n        text-align: right;\n    }\n</style>\n<table border=\"1\" class=\"dataframe\">\n  <thead>\n    <tr style=\"text-align: right;\">\n      <th></th>\n      <th>id</th>\n      <th>text</th>\n      <th>vaccine_stance</th>\n    </tr>\n  </thead>\n  <tbody>\n    <tr>\n      <th>0</th>\n      <td>1356642151397019653</td>\n      <td>und warum wurde in 30 jahren noch kein impfsto...</td>\n      <td>3.0</td>\n    </tr>\n    <tr>\n      <th>1</th>\n      <td>1364723771567988740</td>\n      <td>joelthuering parmeling schon dubios ein basler...</td>\n      <td>3.0</td>\n    </tr>\n    <tr>\n      <th>2</th>\n      <td>1324727450660671488</td>\n      <td>ndrmv warum bereitet mv nicht endlich präventi...</td>\n      <td>1.0</td>\n    </tr>\n    <tr>\n      <th>3</th>\n      <td>1355051921590071297</td>\n      <td>corona nachrichten weltweit von der leyen ford...</td>\n      <td>1.0</td>\n    </tr>\n    <tr>\n      <th>4</th>\n      <td>1365935602072510469</td>\n      <td>flugschulee so ist das mit den leerdenkern mit...</td>\n      <td>1.0</td>\n    </tr>\n    <tr>\n      <th>...</th>\n      <td>...</td>\n      <td>...</td>\n      <td>...</td>\n    </tr>\n    <tr>\n      <th>5998</th>\n      <td>1344543545848434690</td>\n      <td>rt bmauschen irgendwie scheint mir in den letz...</td>\n      <td>1.0</td>\n    </tr>\n    <tr>\n      <th>5999</th>\n      <td>1363273959089782786</td>\n      <td>rt bzbear2 hschaeferiw ich habe heute beim spa...</td>\n      <td>1.0</td>\n    </tr>\n    <tr>\n      <th>6000</th>\n      <td>1307238519987933193</td>\n      <td>https co wgcsqf0l75 zeitonline hat eine headli...</td>\n      <td>1.0</td>\n    </tr>\n    <tr>\n      <th>6001</th>\n      <td>1257380391595446284</td>\n      <td>scheibenkleister die erste serie auf netflix o...</td>\n      <td>1.0</td>\n    </tr>\n    <tr>\n      <th>6002</th>\n      <td>1348955224262770690</td>\n      <td>1 hieß es nicht es kommt keine impfpflicht die...</td>\n      <td>1.0</td>\n    </tr>\n  </tbody>\n</table>\n<p>5996 rows × 3 columns</p>\n</div>"
          },
          "metadata": {},
          "execution_count": 9
        }
      ],
      "source": [
        "# Inspect data\n",
        "df"
      ]
    },
    {
      "cell_type": "code",
      "execution_count": 10,
      "metadata": {},
      "outputs": [
        {
          "output_type": "stream",
          "name": "stdout",
          "text": [
            "Train data size: (5396, 3)\nTest data size: (600, 3)\nComplete dataset size: (5996, 3)\n"
          ]
        }
      ],
      "source": [
        "#Split test and train sets\n",
        "train, test = train_test_split(df, test_size=0.1)\n",
        "\n",
        "\n",
        "# Create x and y for test and train data sets\n",
        "df_res = train.drop([\"vaccine_stance\"], axis=\"columns\").text\n",
        "y_res = train.vaccine_stance.astype(int)\n",
        "\n",
        "x_test = test.drop([\"vaccine_stance\"], axis=\"columns\").text\n",
        "y_test = test.vaccine_stance.astype(int)\n",
        "\n",
        "# Print size of dataset and number of columns\n",
        "print(\"Train data size: {}\".format(train.shape))\n",
        "print(\"Test data size: {}\".format(test.shape))\n",
        "print(\"Complete dataset size: {}\".format(df.shape))"
      ]
    },
    {
      "cell_type": "code",
      "execution_count": 11,
      "metadata": {
        "collapsed": false
      },
      "outputs": [],
      "source": [
        "# Scoring parameters to compare classifiers\n",
        "\n",
        "scoring = [\"precision\", \"balanced_accuracy\",'f1','roc_auc']\n",
        "index = []\n",
        "scores = {\"precision\": [], \"balanced accuracy\": [], 'f1': [], 'roc_auc' : []}\n",
        "\n",
        "def add_scores(x):\n",
        "    scores[\"precision\"].append(x[\"test_precision\"].mean())\n",
        "    scores[\"f1\"].append(x[\"test_f1\"].mean())\n",
        "    scores[\"balanced accuracy\"].append(x[\"test_balanced_accuracy\"].mean())\n",
        "    scores[\"roc_auc\"].append(x[\"test_roc_auc\"].mean())\n"
      ]
    },
    {
      "cell_type": "code",
      "execution_count": 12,
      "metadata": {
        "collapsed": false
      },
      "outputs": [
        {
          "output_type": "execute_result",
          "data": {
            "text/plain": [
              "                  precision  balanced accuracy        f1  roc_auc\n",
              "Dummy classifier   0.839696                0.5  0.912864      0.5"
            ],
            "text/html": "<div>\n<style scoped>\n    .dataframe tbody tr th:only-of-type {\n        vertical-align: middle;\n    }\n\n    .dataframe tbody tr th {\n        vertical-align: top;\n    }\n\n    .dataframe thead th {\n        text-align: right;\n    }\n</style>\n<table border=\"1\" class=\"dataframe\">\n  <thead>\n    <tr style=\"text-align: right;\">\n      <th></th>\n      <th>precision</th>\n      <th>balanced accuracy</th>\n      <th>f1</th>\n      <th>roc_auc</th>\n    </tr>\n  </thead>\n  <tbody>\n    <tr>\n      <th>Dummy classifier</th>\n      <td>0.839696</td>\n      <td>0.5</td>\n      <td>0.912864</td>\n      <td>0.5</td>\n    </tr>\n  </tbody>\n</table>\n</div>"
          },
          "metadata": {},
          "execution_count": 12
        }
      ],
      "source": [
        "# Baseline dummy classifier\n",
        "dummy_clf = DummyClassifier(strategy=\"most_frequent\")\n",
        "\n",
        "index += [\"Dummy classifier\"]\n",
        "cv_result = cross_validate(dummy_clf, df_res, y_res, scoring=scoring)\n",
        "add_scores(cv_result)\n",
        "df_scores = pd.DataFrame(scores, index=index)\n",
        "df_scores"
      ]
    },
    {
      "cell_type": "code",
      "execution_count": 13,
      "metadata": {
        "collapsed": false
      },
      "outputs": [
        {
          "output_type": "execute_result",
          "data": {
            "text/plain": [
              "                     precision  balanced accuracy        f1   roc_auc\n",
              "Dummy classifier      0.839696           0.500000  0.912864  0.500000\n",
              "Logistic regression   0.840238           0.502007  0.912447  0.723277"
            ],
            "text/html": "<div>\n<style scoped>\n    .dataframe tbody tr th:only-of-type {\n        vertical-align: middle;\n    }\n\n    .dataframe tbody tr th {\n        vertical-align: top;\n    }\n\n    .dataframe thead th {\n        text-align: right;\n    }\n</style>\n<table border=\"1\" class=\"dataframe\">\n  <thead>\n    <tr style=\"text-align: right;\">\n      <th></th>\n      <th>precision</th>\n      <th>balanced accuracy</th>\n      <th>f1</th>\n      <th>roc_auc</th>\n    </tr>\n  </thead>\n  <tbody>\n    <tr>\n      <th>Dummy classifier</th>\n      <td>0.839696</td>\n      <td>0.500000</td>\n      <td>0.912864</td>\n      <td>0.500000</td>\n    </tr>\n    <tr>\n      <th>Logistic regression</th>\n      <td>0.840238</td>\n      <td>0.502007</td>\n      <td>0.912447</td>\n      <td>0.723277</td>\n    </tr>\n  </tbody>\n</table>\n</div>"
          },
          "metadata": {},
          "execution_count": 13
        }
      ],
      "source": [
        "# Logistic regression\n",
        "\n",
        "text_pipe = Pipeline([('vect',  TfidfVectorizer( stop_words=german_stop_words,ngram_range=(1,2)))])\n",
        "lr_clf = make_pipeline(text_pipe, LogisticRegression(max_iter=1000))\n",
        "\n",
        "index += [\"Logistic regression\"]\n",
        "cv_result = cross_validate(lr_clf, df_res, y_res, scoring=scoring)\n",
        "\n",
        "add_scores(cv_result)\n",
        "df_scores = pd.DataFrame(scores, index=index)\n",
        "df_scores"
      ]
    },
    {
      "cell_type": "code",
      "execution_count": 45,
      "metadata": {},
      "outputs": [
        {
          "output_type": "execute_result",
          "data": {
            "text/plain": [
              "                     precision  balanced accuracy        f1   roc_auc\n",
              "Dummy classifier      0.841549           0.500000  0.913958  0.500000\n",
              "Logistic regression   0.842342           0.502958  0.913964  0.728112\n",
              "MultinomialNB         0.841549           0.500000  0.913958  0.609226"
            ],
            "text/html": "<div>\n<style scoped>\n    .dataframe tbody tr th:only-of-type {\n        vertical-align: middle;\n    }\n\n    .dataframe tbody tr th {\n        vertical-align: top;\n    }\n\n    .dataframe thead th {\n        text-align: right;\n    }\n</style>\n<table border=\"1\" class=\"dataframe\">\n  <thead>\n    <tr style=\"text-align: right;\">\n      <th></th>\n      <th>precision</th>\n      <th>balanced accuracy</th>\n      <th>f1</th>\n      <th>roc_auc</th>\n    </tr>\n  </thead>\n  <tbody>\n    <tr>\n      <th>Dummy classifier</th>\n      <td>0.841549</td>\n      <td>0.500000</td>\n      <td>0.913958</td>\n      <td>0.500000</td>\n    </tr>\n    <tr>\n      <th>Logistic regression</th>\n      <td>0.842342</td>\n      <td>0.502958</td>\n      <td>0.913964</td>\n      <td>0.728112</td>\n    </tr>\n    <tr>\n      <th>MultinomialNB</th>\n      <td>0.841549</td>\n      <td>0.500000</td>\n      <td>0.913958</td>\n      <td>0.609226</td>\n    </tr>\n  </tbody>\n</table>\n</div>"
          },
          "metadata": {},
          "execution_count": 45
        }
      ],
      "source": [
        "# MultinomialNB \n",
        "\n",
        "lr_clf = make_pipeline( TfidfVectorizer( stop_words=german_stop_words,ngram_range=(1,2)), MultinomialNB())\n",
        "\n",
        "index += [\"MultinomialNB\"]\n",
        "cv_result = cross_validate(lr_clf, df_res, y_res, scoring=scoring)\n",
        "\n",
        "add_scores(cv_result)\n",
        "df_scores = pd.DataFrame(scores, index=index)\n",
        "df_scores"
      ]
    },
    {
      "cell_type": "code",
      "execution_count": 46,
      "metadata": {},
      "outputs": [
        {
          "output_type": "execute_result",
          "data": {
            "text/plain": [
              "                     precision  balanced accuracy        f1   roc_auc\n",
              "Dummy classifier      0.841549           0.500000  0.913958  0.500000\n",
              "Logistic regression   0.842342           0.502958  0.913964  0.728112\n",
              "MultinomialNB         0.841549           0.500000  0.913958  0.609226\n",
              "ComplementNB          0.843251           0.506357  0.914407  0.609226"
            ],
            "text/html": "<div>\n<style scoped>\n    .dataframe tbody tr th:only-of-type {\n        vertical-align: middle;\n    }\n\n    .dataframe tbody tr th {\n        vertical-align: top;\n    }\n\n    .dataframe thead th {\n        text-align: right;\n    }\n</style>\n<table border=\"1\" class=\"dataframe\">\n  <thead>\n    <tr style=\"text-align: right;\">\n      <th></th>\n      <th>precision</th>\n      <th>balanced accuracy</th>\n      <th>f1</th>\n      <th>roc_auc</th>\n    </tr>\n  </thead>\n  <tbody>\n    <tr>\n      <th>Dummy classifier</th>\n      <td>0.841549</td>\n      <td>0.500000</td>\n      <td>0.913958</td>\n      <td>0.500000</td>\n    </tr>\n    <tr>\n      <th>Logistic regression</th>\n      <td>0.842342</td>\n      <td>0.502958</td>\n      <td>0.913964</td>\n      <td>0.728112</td>\n    </tr>\n    <tr>\n      <th>MultinomialNB</th>\n      <td>0.841549</td>\n      <td>0.500000</td>\n      <td>0.913958</td>\n      <td>0.609226</td>\n    </tr>\n    <tr>\n      <th>ComplementNB</th>\n      <td>0.843251</td>\n      <td>0.506357</td>\n      <td>0.914407</td>\n      <td>0.609226</td>\n    </tr>\n  </tbody>\n</table>\n</div>"
          },
          "metadata": {},
          "execution_count": 46
        }
      ],
      "source": [
        "# ComplementNB \n",
        "\n",
        "lr_clf = make_pipeline( TfidfVectorizer( stop_words=german_stop_words,ngram_range=(1,2)), ComplementNB())\n",
        "\n",
        "index += [\"ComplementNB\"]\n",
        "cv_result = cross_validate(lr_clf, df_res, y_res, scoring=scoring)\n",
        "\n",
        "add_scores(cv_result)\n",
        "df_scores = pd.DataFrame(scores, index=index)\n",
        "df_scores"
      ]
    },
    {
      "cell_type": "code",
      "execution_count": 47,
      "metadata": {
        "collapsed": false
      },
      "outputs": [
        {
          "output_type": "execute_result",
          "data": {
            "text/plain": [
              "                                                 precision  balanced accuracy  \\\n",
              "Dummy classifier                                  0.841549           0.500000   \n",
              "Logistic regression                               0.842342           0.502958   \n",
              "MultinomialNB                                     0.841549           0.500000   \n",
              "ComplementNB                                      0.843251           0.506357   \n",
              "Logistic regression with balanced class weights   0.890128           0.643731   \n",
              "\n",
              "                                                       f1   roc_auc  \n",
              "Dummy classifier                                 0.913958  0.500000  \n",
              "Logistic regression                              0.913964  0.728112  \n",
              "MultinomialNB                                    0.913958  0.609226  \n",
              "ComplementNB                                     0.914407  0.609226  \n",
              "Logistic regression with balanced class weights  0.861505  0.732839  "
            ],
            "text/html": "<div>\n<style scoped>\n    .dataframe tbody tr th:only-of-type {\n        vertical-align: middle;\n    }\n\n    .dataframe tbody tr th {\n        vertical-align: top;\n    }\n\n    .dataframe thead th {\n        text-align: right;\n    }\n</style>\n<table border=\"1\" class=\"dataframe\">\n  <thead>\n    <tr style=\"text-align: right;\">\n      <th></th>\n      <th>precision</th>\n      <th>balanced accuracy</th>\n      <th>f1</th>\n      <th>roc_auc</th>\n    </tr>\n  </thead>\n  <tbody>\n    <tr>\n      <th>Dummy classifier</th>\n      <td>0.841549</td>\n      <td>0.500000</td>\n      <td>0.913958</td>\n      <td>0.500000</td>\n    </tr>\n    <tr>\n      <th>Logistic regression</th>\n      <td>0.842342</td>\n      <td>0.502958</td>\n      <td>0.913964</td>\n      <td>0.728112</td>\n    </tr>\n    <tr>\n      <th>MultinomialNB</th>\n      <td>0.841549</td>\n      <td>0.500000</td>\n      <td>0.913958</td>\n      <td>0.609226</td>\n    </tr>\n    <tr>\n      <th>ComplementNB</th>\n      <td>0.843251</td>\n      <td>0.506357</td>\n      <td>0.914407</td>\n      <td>0.609226</td>\n    </tr>\n    <tr>\n      <th>Logistic regression with balanced class weights</th>\n      <td>0.890128</td>\n      <td>0.643731</td>\n      <td>0.861505</td>\n      <td>0.732839</td>\n    </tr>\n  </tbody>\n</table>\n</div>"
          },
          "metadata": {},
          "execution_count": 47
        }
      ],
      "source": [
        "# Logistic regression with balanced classes\n",
        "\n",
        "lr_clf = make_pipeline( TfidfVectorizer( stop_words=german_stop_words,ngram_range=(1,2)), LogisticRegression(max_iter=1000, class_weight='balanced'))\n",
        "\n",
        "index += [\"Logistic regression with balanced class weights\"]\n",
        "cv_result = cross_validate(lr_clf, df_res, y_res, scoring=scoring)\n",
        "\n",
        "add_scores(cv_result)\n",
        "df_scores = pd.DataFrame(scores, index=index)\n",
        "df_scores"
      ]
    },
    {
      "cell_type": "code",
      "execution_count": 48,
      "metadata": {
        "collapsed": false
      },
      "outputs": [
        {
          "output_type": "execute_result",
          "data": {
            "text/plain": [
              "                                                 precision  balanced accuracy  \\\n",
              "Dummy classifier                                  0.841549           0.500000   \n",
              "Logistic regression                               0.842342           0.502958   \n",
              "MultinomialNB                                     0.841549           0.500000   \n",
              "ComplementNB                                      0.843251           0.506357   \n",
              "Logistic regression with balanced class weights   0.890128           0.643731   \n",
              "Random forest with balanced class weights         0.843112           0.505848   \n",
              "\n",
              "                                                       f1   roc_auc  \n",
              "Dummy classifier                                 0.913958  0.500000  \n",
              "Logistic regression                              0.913964  0.728112  \n",
              "MultinomialNB                                    0.913958  0.609226  \n",
              "ComplementNB                                     0.914407  0.609226  \n",
              "Logistic regression with balanced class weights  0.861505  0.732839  \n",
              "Random forest with balanced class weights        0.914879  0.690908  "
            ],
            "text/html": "<div>\n<style scoped>\n    .dataframe tbody tr th:only-of-type {\n        vertical-align: middle;\n    }\n\n    .dataframe tbody tr th {\n        vertical-align: top;\n    }\n\n    .dataframe thead th {\n        text-align: right;\n    }\n</style>\n<table border=\"1\" class=\"dataframe\">\n  <thead>\n    <tr style=\"text-align: right;\">\n      <th></th>\n      <th>precision</th>\n      <th>balanced accuracy</th>\n      <th>f1</th>\n      <th>roc_auc</th>\n    </tr>\n  </thead>\n  <tbody>\n    <tr>\n      <th>Dummy classifier</th>\n      <td>0.841549</td>\n      <td>0.500000</td>\n      <td>0.913958</td>\n      <td>0.500000</td>\n    </tr>\n    <tr>\n      <th>Logistic regression</th>\n      <td>0.842342</td>\n      <td>0.502958</td>\n      <td>0.913964</td>\n      <td>0.728112</td>\n    </tr>\n    <tr>\n      <th>MultinomialNB</th>\n      <td>0.841549</td>\n      <td>0.500000</td>\n      <td>0.913958</td>\n      <td>0.609226</td>\n    </tr>\n    <tr>\n      <th>ComplementNB</th>\n      <td>0.843251</td>\n      <td>0.506357</td>\n      <td>0.914407</td>\n      <td>0.609226</td>\n    </tr>\n    <tr>\n      <th>Logistic regression with balanced class weights</th>\n      <td>0.890128</td>\n      <td>0.643731</td>\n      <td>0.861505</td>\n      <td>0.732839</td>\n    </tr>\n    <tr>\n      <th>Random forest with balanced class weights</th>\n      <td>0.843112</td>\n      <td>0.505848</td>\n      <td>0.914879</td>\n      <td>0.690908</td>\n    </tr>\n  </tbody>\n</table>\n</div>"
          },
          "metadata": {},
          "execution_count": 48
        }
      ],
      "source": [
        "rf_clf = make_pipeline( TfidfVectorizer( stop_words=german_stop_words,ngram_range=(1,2)), RandomForestClassifier( class_weight='balanced'))\n",
        "\n",
        "index += [\"Random forest with balanced class weights\"]\n",
        "cv_result = cross_validate(rf_clf, df_res, y_res, scoring=scoring)\n",
        "add_scores(cv_result)\n",
        "df_scores = pd.DataFrame(scores, index=index)\n",
        "df_scores"
      ]
    },
    {
      "cell_type": "code",
      "execution_count": 49,
      "metadata": {
        "collapsed": false
      },
      "outputs": [
        {
          "output_type": "execute_result",
          "data": {
            "text/plain": [
              "                                                 precision  balanced accuracy  \\\n",
              "Dummy classifier                                  0.841549           0.500000   \n",
              "Logistic regression                               0.842342           0.502958   \n",
              "MultinomialNB                                     0.841549           0.500000   \n",
              "ComplementNB                                      0.843251           0.506357   \n",
              "Logistic regression with balanced class weights   0.890128           0.643731   \n",
              "Random forest with balanced class weights         0.843112           0.505848   \n",
              "Log Regression balanced classes + SMOTETomek      0.884764           0.631266   \n",
              "\n",
              "                                                       f1   roc_auc  \n",
              "Dummy classifier                                 0.913958  0.500000  \n",
              "Logistic regression                              0.913964  0.728112  \n",
              "MultinomialNB                                    0.913958  0.609226  \n",
              "ComplementNB                                     0.914407  0.609226  \n",
              "Logistic regression with balanced class weights  0.861505  0.732839  \n",
              "Random forest with balanced class weights        0.914879  0.690908  \n",
              "Log Regression balanced classes + SMOTETomek     0.867966  0.732818  "
            ],
            "text/html": "<div>\n<style scoped>\n    .dataframe tbody tr th:only-of-type {\n        vertical-align: middle;\n    }\n\n    .dataframe tbody tr th {\n        vertical-align: top;\n    }\n\n    .dataframe thead th {\n        text-align: right;\n    }\n</style>\n<table border=\"1\" class=\"dataframe\">\n  <thead>\n    <tr style=\"text-align: right;\">\n      <th></th>\n      <th>precision</th>\n      <th>balanced accuracy</th>\n      <th>f1</th>\n      <th>roc_auc</th>\n    </tr>\n  </thead>\n  <tbody>\n    <tr>\n      <th>Dummy classifier</th>\n      <td>0.841549</td>\n      <td>0.500000</td>\n      <td>0.913958</td>\n      <td>0.500000</td>\n    </tr>\n    <tr>\n      <th>Logistic regression</th>\n      <td>0.842342</td>\n      <td>0.502958</td>\n      <td>0.913964</td>\n      <td>0.728112</td>\n    </tr>\n    <tr>\n      <th>MultinomialNB</th>\n      <td>0.841549</td>\n      <td>0.500000</td>\n      <td>0.913958</td>\n      <td>0.609226</td>\n    </tr>\n    <tr>\n      <th>ComplementNB</th>\n      <td>0.843251</td>\n      <td>0.506357</td>\n      <td>0.914407</td>\n      <td>0.609226</td>\n    </tr>\n    <tr>\n      <th>Logistic regression with balanced class weights</th>\n      <td>0.890128</td>\n      <td>0.643731</td>\n      <td>0.861505</td>\n      <td>0.732839</td>\n    </tr>\n    <tr>\n      <th>Random forest with balanced class weights</th>\n      <td>0.843112</td>\n      <td>0.505848</td>\n      <td>0.914879</td>\n      <td>0.690908</td>\n    </tr>\n    <tr>\n      <th>Log Regression balanced classes + SMOTETomek</th>\n      <td>0.884764</td>\n      <td>0.631266</td>\n      <td>0.867966</td>\n      <td>0.732818</td>\n    </tr>\n  </tbody>\n</table>\n</div>"
          },
          "metadata": {},
          "execution_count": 49
        }
      ],
      "source": [
        "smote_clf = make_pipeline_with_sampler(\n",
        "    TfidfVectorizer(stop_words=german_stop_words,ngram_range=(1,2)),\n",
        "    SMOTETomek(random_state=0, sampling_strategy='minority'),\n",
        "     LogisticRegression(max_iter=1000, class_weight='balanced')\n",
        "    # AdaBoostClassifier(),\n",
        ")\n",
        "\n",
        "index += [\"Log Regression balanced classes + SMOTETomek\"]\n",
        "cv_result = cross_validate(smote_clf, df_res, y_res, scoring=scoring)\n",
        "add_scores(cv_result)\n",
        "df_scores = pd.DataFrame(scores, index=index)\n",
        "df_scores"
      ]
    },
    {
      "cell_type": "code",
      "execution_count": 50,
      "metadata": {},
      "outputs": [
        {
          "output_type": "execute_result",
          "data": {
            "text/plain": [
              "                                                 precision  balanced accuracy  \\\n",
              "Dummy classifier                                  0.841549           0.500000   \n",
              "Logistic regression                               0.842342           0.502958   \n",
              "MultinomialNB                                     0.841549           0.500000   \n",
              "ComplementNB                                      0.843251           0.506357   \n",
              "Logistic regression with balanced class weights   0.890128           0.643731   \n",
              "Random forest with balanced class weights         0.843112           0.505848   \n",
              "Log Regression balanced classes + SMOTETomek      0.884764           0.631266   \n",
              "SVC + SMOTETomek                                  0.842800           0.504678   \n",
              "\n",
              "                                                       f1   roc_auc  \n",
              "Dummy classifier                                 0.913958  0.500000  \n",
              "Logistic regression                              0.913964  0.728112  \n",
              "MultinomialNB                                    0.913958  0.609226  \n",
              "ComplementNB                                     0.914407  0.609226  \n",
              "Logistic regression with balanced class weights  0.861505  0.732839  \n",
              "Random forest with balanced class weights        0.914879  0.690908  \n",
              "Log Regression balanced classes + SMOTETomek     0.867966  0.732818  \n",
              "SVC + SMOTETomek                                 0.914695  0.725527  "
            ],
            "text/html": "<div>\n<style scoped>\n    .dataframe tbody tr th:only-of-type {\n        vertical-align: middle;\n    }\n\n    .dataframe tbody tr th {\n        vertical-align: top;\n    }\n\n    .dataframe thead th {\n        text-align: right;\n    }\n</style>\n<table border=\"1\" class=\"dataframe\">\n  <thead>\n    <tr style=\"text-align: right;\">\n      <th></th>\n      <th>precision</th>\n      <th>balanced accuracy</th>\n      <th>f1</th>\n      <th>roc_auc</th>\n    </tr>\n  </thead>\n  <tbody>\n    <tr>\n      <th>Dummy classifier</th>\n      <td>0.841549</td>\n      <td>0.500000</td>\n      <td>0.913958</td>\n      <td>0.500000</td>\n    </tr>\n    <tr>\n      <th>Logistic regression</th>\n      <td>0.842342</td>\n      <td>0.502958</td>\n      <td>0.913964</td>\n      <td>0.728112</td>\n    </tr>\n    <tr>\n      <th>MultinomialNB</th>\n      <td>0.841549</td>\n      <td>0.500000</td>\n      <td>0.913958</td>\n      <td>0.609226</td>\n    </tr>\n    <tr>\n      <th>ComplementNB</th>\n      <td>0.843251</td>\n      <td>0.506357</td>\n      <td>0.914407</td>\n      <td>0.609226</td>\n    </tr>\n    <tr>\n      <th>Logistic regression with balanced class weights</th>\n      <td>0.890128</td>\n      <td>0.643731</td>\n      <td>0.861505</td>\n      <td>0.732839</td>\n    </tr>\n    <tr>\n      <th>Random forest with balanced class weights</th>\n      <td>0.843112</td>\n      <td>0.505848</td>\n      <td>0.914879</td>\n      <td>0.690908</td>\n    </tr>\n    <tr>\n      <th>Log Regression balanced classes + SMOTETomek</th>\n      <td>0.884764</td>\n      <td>0.631266</td>\n      <td>0.867966</td>\n      <td>0.732818</td>\n    </tr>\n    <tr>\n      <th>SVC + SMOTETomek</th>\n      <td>0.842800</td>\n      <td>0.504678</td>\n      <td>0.914695</td>\n      <td>0.725527</td>\n    </tr>\n  </tbody>\n</table>\n</div>"
          },
          "metadata": {},
          "execution_count": 50
        }
      ],
      "source": [
        "smote_clf = make_pipeline_with_sampler(\n",
        "    TfidfVectorizer(stop_words=german_stop_words,ngram_range=(1,2)),\n",
        "    SMOTETomek(random_state=0, sampling_strategy='minority'),\n",
        "    SVC(gamma=2, C=1)\n",
        ")\n",
        "\n",
        "index += [\"SVC + SMOTETomek\"]\n",
        "cv_result = cross_validate(smote_clf, df_res, y_res, scoring=scoring)\n",
        "add_scores(cv_result)\n",
        "df_scores = pd.DataFrame(scores, index=index)\n",
        "df_scores"
      ]
    },
    {
      "cell_type": "code",
      "execution_count": null,
      "metadata": {},
      "outputs": [],
      "source": [
        "# Find final estimator by hyperparameter tuning the best performing models\n",
        "\n",
        "parameters = [\n",
        "    {'clf': [ComplementNB()],\n",
        "     'vec__ngram_range': [(1, 1), (1, 2),(1,4)],\n",
        "     'clf__alpha': [0.001, 0.1, 1, 10, 100]\n",
        "    },\n",
        "    { 'clf': [SVC()],\n",
        "     'vec__ngram_range': [(1, 1), (1, 2),(1,4)],\n",
        "     'clf__C': [0.001, 0.1, 1, 10, 100, 10e5],\n",
        "    # 'clf__kernel': ['linear', 'rbf'],\n",
        "    # 'clf__probability': [True]\n",
        "    },\n",
        "    {'clf': [LogisticRegression(class_weight='balanced')],\n",
        "     'vec__ngram_range': [(1, 1), (1, 2),(1,3),(1,4)],\n",
        "      'clf__solver': ['lbfgs','saga'],\n",
        "    }\n",
        "    ]\n",
        "\n",
        "result=[]\n",
        "\n",
        "for params in parameters:\n",
        "    clf = params['clf'][0]\n",
        "    params.pop('clf')   \n",
        "    steps = [('vec', TfidfVectorizer(stop_words=german_stop_words)), \n",
        "             ('smote', SMOTETomek(random_state=0, sampling_strategy='minority'),),\n",
        "             ('clf',clf)]\n",
        "    grid = GridSearchCV(Pipeline(steps), param_grid=params, cv=5, n_jobs=-1, scoring='roc_auc')\n",
        "    grid.fit(df_res, y_res)\n",
        "\n",
        "    result.append({\n",
        "        'grid': grid,\n",
        "        'classifier': grid.best_estimator_,\n",
        "        'best score': grid.best_score_,\n",
        "        'best params': grid.best_params_,\n",
        "        'cv': grid.cv})\n",
        "\n",
        "result = sorted(result, key=operator.itemgetter('best score'),reverse=True)\n",
        "grid = result[0]['grid']"
      ]
    },
    {
      "cell_type": "code",
      "execution_count": 46,
      "metadata": {},
      "outputs": [
        {
          "output_type": "execute_result",
          "data": {
            "text/plain": [
              "Pipeline(steps=[('vec',\n",
              "                 TfidfVectorizer(stop_words=['aber', 'alle', 'allem', 'allen',\n",
              "                                             'aller', 'alles', 'als', 'also',\n",
              "                                             'am', 'an', 'ander', 'andere',\n",
              "                                             'anderem', 'anderen', 'anderer',\n",
              "                                             'anderes', 'anderm', 'andern',\n",
              "                                             'anderr', 'anders', 'auch', 'auf',\n",
              "                                             'aus', 'bei', 'bin', 'bis', 'bist',\n",
              "                                             'da', 'damit', 'dann', ...])),\n",
              "                ('smote',\n",
              "                 SMOTETomek(random_state=0, sampling_strategy='minority')),\n",
              "                ('clf', SVC(C=10))])"
            ]
          },
          "metadata": {},
          "execution_count": 46
        }
      ],
      "source": [
        "grid.best_estimator_"
      ]
    },
    {
      "cell_type": "code",
      "execution_count": 51,
      "metadata": {},
      "outputs": [
        {
          "output_type": "execute_result",
          "data": {
            "text/plain": [
              "                                                 precision  balanced accuracy  \\\n",
              "Dummy classifier                                  0.841549           0.500000   \n",
              "Logistic regression                               0.842342           0.502958   \n",
              "MultinomialNB                                     0.841549           0.500000   \n",
              "ComplementNB                                      0.843251           0.506357   \n",
              "Logistic regression with balanced class weights   0.890128           0.643731   \n",
              "Random forest with balanced class weights         0.843112           0.505848   \n",
              "Log Regression balanced classes + SMOTETomek      0.884764           0.631266   \n",
              "SVC + SMOTETomek                                  0.842800           0.504678   \n",
              "Hyperparameter tuned SMOTE ComplementNB           0.919576           0.677809   \n",
              "\n",
              "                                                       f1   roc_auc  \n",
              "Dummy classifier                                 0.913958  0.500000  \n",
              "Logistic regression                              0.913964  0.728112  \n",
              "MultinomialNB                                    0.913958  0.609226  \n",
              "ComplementNB                                     0.914407  0.609226  \n",
              "Logistic regression with balanced class weights  0.861505  0.732839  \n",
              "Random forest with balanced class weights        0.914879  0.690908  \n",
              "Log Regression balanced classes + SMOTETomek     0.867966  0.732818  \n",
              "SVC + SMOTETomek                                 0.914695  0.725527  \n",
              "Hyperparameter tuned SMOTE ComplementNB          0.771415  0.734540  "
            ],
            "text/html": "<div>\n<style scoped>\n    .dataframe tbody tr th:only-of-type {\n        vertical-align: middle;\n    }\n\n    .dataframe tbody tr th {\n        vertical-align: top;\n    }\n\n    .dataframe thead th {\n        text-align: right;\n    }\n</style>\n<table border=\"1\" class=\"dataframe\">\n  <thead>\n    <tr style=\"text-align: right;\">\n      <th></th>\n      <th>precision</th>\n      <th>balanced accuracy</th>\n      <th>f1</th>\n      <th>roc_auc</th>\n    </tr>\n  </thead>\n  <tbody>\n    <tr>\n      <th>Dummy classifier</th>\n      <td>0.841549</td>\n      <td>0.500000</td>\n      <td>0.913958</td>\n      <td>0.500000</td>\n    </tr>\n    <tr>\n      <th>Logistic regression</th>\n      <td>0.842342</td>\n      <td>0.502958</td>\n      <td>0.913964</td>\n      <td>0.728112</td>\n    </tr>\n    <tr>\n      <th>MultinomialNB</th>\n      <td>0.841549</td>\n      <td>0.500000</td>\n      <td>0.913958</td>\n      <td>0.609226</td>\n    </tr>\n    <tr>\n      <th>ComplementNB</th>\n      <td>0.843251</td>\n      <td>0.506357</td>\n      <td>0.914407</td>\n      <td>0.609226</td>\n    </tr>\n    <tr>\n      <th>Logistic regression with balanced class weights</th>\n      <td>0.890128</td>\n      <td>0.643731</td>\n      <td>0.861505</td>\n      <td>0.732839</td>\n    </tr>\n    <tr>\n      <th>Random forest with balanced class weights</th>\n      <td>0.843112</td>\n      <td>0.505848</td>\n      <td>0.914879</td>\n      <td>0.690908</td>\n    </tr>\n    <tr>\n      <th>Log Regression balanced classes + SMOTETomek</th>\n      <td>0.884764</td>\n      <td>0.631266</td>\n      <td>0.867966</td>\n      <td>0.732818</td>\n    </tr>\n    <tr>\n      <th>SVC + SMOTETomek</th>\n      <td>0.842800</td>\n      <td>0.504678</td>\n      <td>0.914695</td>\n      <td>0.725527</td>\n    </tr>\n    <tr>\n      <th>Hyperparameter tuned SMOTE ComplementNB</th>\n      <td>0.919576</td>\n      <td>0.677809</td>\n      <td>0.771415</td>\n      <td>0.734540</td>\n    </tr>\n  </tbody>\n</table>\n</div>"
          },
          "metadata": {},
          "execution_count": 51
        }
      ],
      "source": [
        "# Test best settings across different scoring parameters (Seperated from step above to reduce duration of calculation)\n",
        "\n",
        "smote_clf = make_pipeline_with_sampler(\n",
        "    TfidfVectorizer(stop_words=german_stop_words,ngram_range=(1,4)),\n",
        "    SMOTETomek(random_state=0, sampling_strategy='minority'),\n",
        "    ComplementNB(alpha=1)\n",
        ")\n",
        "\n",
        "index += [\"Hyperparameter tuned SMOTE ComplementNB\"]\n",
        "cv_result = cross_validate(smote_clf, df_res, y_res, scoring=scoring)\n",
        "add_scores(cv_result)\n",
        "df_scores = pd.DataFrame(scores, index=index)\n",
        "df_scores"
      ]
    },
    {
      "cell_type": "code",
      "execution_count": 34,
      "metadata": {},
      "outputs": [
        {
          "output_type": "stream",
          "name": "stdout",
          "text": [
            "              precision    recall  f1-score   support\n\n           1       1.00      0.96      0.98       513\n           3       0.79      0.98      0.88        87\n\n    accuracy                           0.96       600\n   macro avg       0.90      0.97      0.93       600\nweighted avg       0.97      0.96      0.96       600\n\n"
          ]
        }
      ],
      "source": [
        "best_clf = smote_clf.fit( df_res, y_res)\n",
        "predicted = best_clf.predict(x_test)\n",
        "# Percentage of rightly classified cases\n",
        "np.mean(predicted == y_test)\n",
        "print(metrics.classification_report(y_test, predicted))"
      ]
    },
    {
      "cell_type": "code",
      "execution_count": 35,
      "metadata": {},
      "outputs": [],
      "source": [
        "# Function adopted from Yash Nag (https://stackoverflow.com/questions/39662398/scikit-learn-output-metrics-classification-report-into-csv-tab-delimited-format)\n",
        "def report_to_df(report):\n",
        "    report = [x.split(' ') for x in report.split('\\n')]\n",
        "    header = ['Class Name']+[x for x in report[0] if x!='']\n",
        "    values = []\n",
        "    for row in report[1:-5]:\n",
        "        row = [value for value in row if value!='']\n",
        "        if row!=[]:\n",
        "            values.append(row)\n",
        "    df = pd.DataFrame(data = values, columns = header)\n",
        "    return df"
      ]
    },
    {
      "cell_type": "code",
      "execution_count": 37,
      "metadata": {},
      "outputs": [
        {
          "output_type": "stream",
          "name": "stdout",
          "text": [
            "         Class Name precision recall f1-score support\n0      Pro/ Neutral      1.00   0.96     0.98     513\n1  Anti-Vaccination      0.79   0.98     0.88      87\n"
          ]
        }
      ],
      "source": [
        "report = report_to_df(metrics.classification_report(y_test, predicted)).replace({'Class Name': {'1': 'Pro/ Neutral', '3':'Anti-Vaccination'}})\n",
        "print(report)\n",
        "\n",
        "with open('/Users/D/Dropbox/Apps/Overleaf/Master_thesis_010621/tables/classification_report.tex','w') as tf:\n",
        "    tf.write(report.to_latex(header=['Class','Precision','Recall','F1-Score','Support'], float_format=\"{:0.2f}\".format ,index=False,\n",
        "    caption='Classification report for the machine learning classifier model.'))"
      ]
    },
    {
      "cell_type": "code",
      "execution_count": 31,
      "metadata": {},
      "outputs": [
        {
          "output_type": "execute_result",
          "data": {
            "text/plain": [
              "['vaccine_stance_clf.joblib']"
            ]
          },
          "metadata": {},
          "execution_count": 31
        }
      ],
      "source": [
        "# Save  best classifier model\n",
        "dump(best_clf, 'vaccine_stance_clf.joblib') "
      ]
    },
    {
      "cell_type": "code",
      "execution_count": 32,
      "metadata": {},
      "outputs": [],
      "source": [
        "### Classify tweets the overall dataset"
      ]
    },
    {
      "cell_type": "code",
      "execution_count": 33,
      "metadata": {},
      "outputs": [],
      "source": [
        "# Load classifier and data\n",
        "clf = load('vaccine_stance_clf.joblib') \n",
        "data = pd.read_pickle('/Users/D/final_edgelist_180521.pkl') "
      ]
    },
    {
      "cell_type": "code",
      "execution_count": 36,
      "metadata": {},
      "outputs": [],
      "source": [
        "# Apply preprocessing to tweet text and predict vaccination stance based on text\n",
        "data['vaccine_stance'] =  clf.predict(data.text.apply(lambda x: (tweet_preprocessing(x))))"
      ]
    },
    {
      "cell_type": "code",
      "execution_count": 37,
      "metadata": {},
      "outputs": [],
      "source": [
        "# score 0 = neutral, 1 = anti vaccine\n",
        "data = data.replace({'vaccine_stance': {1: 0, 3: 1}})"
      ]
    },
    {
      "cell_type": "code",
      "execution_count": 38,
      "metadata": {},
      "outputs": [
        {
          "output_type": "execute_result",
          "data": {
            "text/plain": [
              "0    2130417\n",
              "1    1136899\n",
              "Name: vaccine_stance, dtype: int64"
            ]
          },
          "metadata": {},
          "execution_count": 38
        }
      ],
      "source": [
        "data.vaccine_stance.value_counts()"
      ]
    },
    {
      "cell_type": "code",
      "execution_count": 39,
      "metadata": {},
      "outputs": [],
      "source": [
        "# Vaccination stance per author\n",
        "author_stance = data.groupby('author_id')['vaccine_stance'].agg(['mean','count'])\n",
        "def cat(x):\n",
        "    if x <= np.float(0.5):\n",
        "        return \"pro_neutral\"\n",
        "    else:\n",
        "        return \"anti_vaxx\"\n",
        "author_stance['vaccine_stance'] = author_stance['mean'].apply(lambda x: cat(x))\n",
        "\n",
        "#Export author vaccine stances\n",
        "author_stance.to_pickle('authors_vaccination_stance_ML_results.pkl')"
      ]
    },
    {
      "cell_type": "code",
      "execution_count": 40,
      "metadata": {},
      "outputs": [
        {
          "output_type": "execute_result",
          "data": {
            "text/plain": [
              "pro_neutral    268034\n",
              "anti_vaxx       79259\n",
              "Name: vaccine_stance, dtype: int64"
            ]
          },
          "metadata": {},
          "execution_count": 40
        }
      ],
      "source": [
        "author_stance.vaccine_stance.value_counts()"
      ]
    },
    {
      "cell_type": "code",
      "execution_count": null,
      "metadata": {},
      "outputs": [],
      "source": []
    }
  ],
  "metadata": {
    "kernelspec": {
      "name": "python385jvsc74a57bd0af17b79a06a22b635a8b8a55f36d039b10705be3554a101ed8e349def8e23d1a",
      "display_name": "Python 3.8.5 64-bit ('base': conda)"
    },
    "language_info": {
      "codemirror_mode": {
        "name": "ipython",
        "version": 3
      },
      "file_extension": ".py",
      "mimetype": "text/x-python",
      "name": "python",
      "nbconvert_exporter": "python",
      "pygments_lexer": "ipython3",
      "version": "3.8.5"
    }
  },
  "nbformat": 4,
  "nbformat_minor": 0
}